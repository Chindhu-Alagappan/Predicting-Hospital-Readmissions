{
 "cells": [
  {
   "cell_type": "code",
   "execution_count": 71,
   "id": "63505ff7-224c-4df9-8b95-773e152d135d",
   "metadata": {},
   "outputs": [],
   "source": [
    "# Import all necessary packages\n",
    "import pandas as pd\n",
    "import numpy as np\n",
    "\n",
    "import seaborn as sns\n",
    "import matplotlib.pyplot as plt\n",
    "import plotly.express as px\n",
    "\n",
    "from sklearn.preprocessing import OneHotEncoder, StandardScaler\n",
    "from sklearn.model_selection import train_test_split, GridSearchCV\n",
    "from imblearn.over_sampling import SMOTE \n",
    "from sklearn.decomposition import PCA\n",
    "\n",
    "from sklearn.linear_model import LogisticRegression\n",
    "from sklearn.neighbors import KNeighborsClassifier\n",
    "from sklearn.svm import SVC\n",
    "from sklearn.ensemble import RandomForestClassifier, AdaBoostClassifier, GradientBoostingClassifier\n",
    "\n",
    "from sklearn.metrics import accuracy_score, confusion_matrix, precision_score, recall_score, f1_score, roc_curve, auc\n",
    "from yellowbrick.model_selection import FeatureImportances"
   ]
  },
  {
   "cell_type": "markdown",
   "id": "6a5b86f7-92cf-40d5-a2e9-2c3c58d9bf6f",
   "metadata": {},
   "source": [
    "## Dataset :"
   ]
  },
  {
   "cell_type": "code",
   "execution_count": 73,
   "id": "d1cc5bf3-9992-4fb7-97d9-223cb87a0247",
   "metadata": {},
   "outputs": [],
   "source": [
    "df = pd.read_csv(r'D:\\Chindhu\\RoadMap for Career\\Data Science\\Guvi\\Python Codes\\Final Projects\\hospital_readmissions\\hospital_readmissions.csv')"
   ]
  },
  {
   "cell_type": "code",
   "execution_count": 74,
   "id": "0b48856c-5561-4039-9ecc-62e7902d9f04",
   "metadata": {},
   "outputs": [
    {
     "data": {
      "text/html": [
       "<div>\n",
       "<style scoped>\n",
       "    .dataframe tbody tr th:only-of-type {\n",
       "        vertical-align: middle;\n",
       "    }\n",
       "\n",
       "    .dataframe tbody tr th {\n",
       "        vertical-align: top;\n",
       "    }\n",
       "\n",
       "    .dataframe thead th {\n",
       "        text-align: right;\n",
       "    }\n",
       "</style>\n",
       "<table border=\"1\" class=\"dataframe\">\n",
       "  <thead>\n",
       "    <tr style=\"text-align: right;\">\n",
       "      <th></th>\n",
       "      <th>Patient_ID</th>\n",
       "      <th>Age</th>\n",
       "      <th>Gender</th>\n",
       "      <th>Admission_Type</th>\n",
       "      <th>Diagnosis</th>\n",
       "      <th>Num_Lab_Procedures</th>\n",
       "      <th>Num_Medications</th>\n",
       "      <th>Num_Outpatient_Visits</th>\n",
       "      <th>Num_Inpatient_Visits</th>\n",
       "      <th>Num_Emergency_Visits</th>\n",
       "      <th>Num_Diagnoses</th>\n",
       "      <th>A1C_Result</th>\n",
       "      <th>Readmitted</th>\n",
       "    </tr>\n",
       "  </thead>\n",
       "  <tbody>\n",
       "    <tr>\n",
       "      <th>0</th>\n",
       "      <td>1</td>\n",
       "      <td>69</td>\n",
       "      <td>Other</td>\n",
       "      <td>Emergency</td>\n",
       "      <td>Heart Disease</td>\n",
       "      <td>33</td>\n",
       "      <td>2</td>\n",
       "      <td>4</td>\n",
       "      <td>1</td>\n",
       "      <td>1</td>\n",
       "      <td>5</td>\n",
       "      <td>NaN</td>\n",
       "      <td>Yes</td>\n",
       "    </tr>\n",
       "    <tr>\n",
       "      <th>1</th>\n",
       "      <td>2</td>\n",
       "      <td>32</td>\n",
       "      <td>Female</td>\n",
       "      <td>Urgent</td>\n",
       "      <td>Diabetes</td>\n",
       "      <td>81</td>\n",
       "      <td>10</td>\n",
       "      <td>4</td>\n",
       "      <td>4</td>\n",
       "      <td>1</td>\n",
       "      <td>6</td>\n",
       "      <td>NaN</td>\n",
       "      <td>No</td>\n",
       "    </tr>\n",
       "    <tr>\n",
       "      <th>2</th>\n",
       "      <td>3</td>\n",
       "      <td>78</td>\n",
       "      <td>Female</td>\n",
       "      <td>Urgent</td>\n",
       "      <td>Heart Disease</td>\n",
       "      <td>75</td>\n",
       "      <td>29</td>\n",
       "      <td>4</td>\n",
       "      <td>0</td>\n",
       "      <td>3</td>\n",
       "      <td>5</td>\n",
       "      <td>Normal</td>\n",
       "      <td>No</td>\n",
       "    </tr>\n",
       "    <tr>\n",
       "      <th>3</th>\n",
       "      <td>4</td>\n",
       "      <td>38</td>\n",
       "      <td>Male</td>\n",
       "      <td>Elective</td>\n",
       "      <td>Diabetes</td>\n",
       "      <td>77</td>\n",
       "      <td>11</td>\n",
       "      <td>2</td>\n",
       "      <td>3</td>\n",
       "      <td>4</td>\n",
       "      <td>9</td>\n",
       "      <td>NaN</td>\n",
       "      <td>Yes</td>\n",
       "    </tr>\n",
       "    <tr>\n",
       "      <th>4</th>\n",
       "      <td>5</td>\n",
       "      <td>41</td>\n",
       "      <td>Female</td>\n",
       "      <td>Urgent</td>\n",
       "      <td>Diabetes</td>\n",
       "      <td>50</td>\n",
       "      <td>25</td>\n",
       "      <td>3</td>\n",
       "      <td>4</td>\n",
       "      <td>1</td>\n",
       "      <td>3</td>\n",
       "      <td>NaN</td>\n",
       "      <td>Yes</td>\n",
       "    </tr>\n",
       "  </tbody>\n",
       "</table>\n",
       "</div>"
      ],
      "text/plain": [
       "   Patient_ID  Age  Gender Admission_Type      Diagnosis  Num_Lab_Procedures  \\\n",
       "0           1   69   Other      Emergency  Heart Disease                  33   \n",
       "1           2   32  Female         Urgent       Diabetes                  81   \n",
       "2           3   78  Female         Urgent  Heart Disease                  75   \n",
       "3           4   38    Male       Elective       Diabetes                  77   \n",
       "4           5   41  Female         Urgent       Diabetes                  50   \n",
       "\n",
       "   Num_Medications  Num_Outpatient_Visits  Num_Inpatient_Visits  \\\n",
       "0                2                      4                     1   \n",
       "1               10                      4                     4   \n",
       "2               29                      4                     0   \n",
       "3               11                      2                     3   \n",
       "4               25                      3                     4   \n",
       "\n",
       "   Num_Emergency_Visits  Num_Diagnoses A1C_Result Readmitted  \n",
       "0                     1              5        NaN        Yes  \n",
       "1                     1              6        NaN         No  \n",
       "2                     3              5     Normal         No  \n",
       "3                     4              9        NaN        Yes  \n",
       "4                     1              3        NaN        Yes  "
      ]
     },
     "execution_count": 74,
     "metadata": {},
     "output_type": "execute_result"
    }
   ],
   "source": [
    "df.head()"
   ]
  },
  {
   "cell_type": "code",
   "execution_count": 75,
   "id": "4c0d3811-b0bb-4c54-954d-af971a4ef1ac",
   "metadata": {},
   "outputs": [
    {
     "data": {
      "text/plain": [
       "(1000, 13)"
      ]
     },
     "execution_count": 75,
     "metadata": {},
     "output_type": "execute_result"
    }
   ],
   "source": [
    "df.shape"
   ]
  },
  {
   "cell_type": "markdown",
   "id": "c8c4b51b-b808-403a-a52e-4cc55999d099",
   "metadata": {},
   "source": [
    "## Data Cleaning :"
   ]
  },
  {
   "cell_type": "code",
   "execution_count": 77,
   "id": "f95b9b57-c068-48f4-bf57-b2c6bef9477e",
   "metadata": {},
   "outputs": [
    {
     "data": {
      "text/plain": [
       "Patient_ID                 0\n",
       "Age                        0\n",
       "Gender                     0\n",
       "Admission_Type             0\n",
       "Diagnosis                  0\n",
       "Num_Lab_Procedures         0\n",
       "Num_Medications            0\n",
       "Num_Outpatient_Visits      0\n",
       "Num_Inpatient_Visits       0\n",
       "Num_Emergency_Visits       0\n",
       "Num_Diagnoses              0\n",
       "A1C_Result               434\n",
       "Readmitted                 0\n",
       "dtype: int64"
      ]
     },
     "execution_count": 77,
     "metadata": {},
     "output_type": "execute_result"
    }
   ],
   "source": [
    "df.isnull().sum() # No null values except the A1C column, which we are planning to omit as null values are high"
   ]
  },
  {
   "cell_type": "raw",
   "id": "f957e5b0-3a64-40c5-b6ad-65697da152de",
   "metadata": {},
   "source": [
    "Outliers :"
   ]
  },
  {
   "cell_type": "code",
   "execution_count": 80,
   "id": "c82c82ea-4ac3-49e8-8698-09effd962dd9",
   "metadata": {},
   "outputs": [
    {
     "data": {
      "text/plain": [
       "<Axes: xlabel='Age'>"
      ]
     },
     "execution_count": 80,
     "metadata": {},
     "output_type": "execute_result"
    },
    {
     "data": {
      "image/png": "[encoded data removed]",
      "text/plain": [
       "<Figure size 800x550 with 1 Axes>"
      ]
     },
     "metadata": {},
     "output_type": "display_data"
    }
   ],
   "source": [
    "sns.boxplot(x=df['Age']) # Outlier detected in column \"Age\""
   ]
  },
  {
   "cell_type": "code",
   "execution_count": 81,
   "id": "565a2835-bfbf-4b4e-bfe8-2bd91fa93a2a",
   "metadata": {},
   "outputs": [
    {
     "name": "stdout",
     "output_type": "stream",
     "text": [
      "Q1=34.0\n",
      "Q3=69.0\n",
      "IQR=35.0\n",
      "Lower=-18.5\n",
      "Upper=121.5\n"
     ]
    }
   ],
   "source": [
    "q1=df['Age'].quantile(0.25)\n",
    "print(\"Q1=\"+str(q1))\n",
    "q3=df['Age'].quantile(0.75)\n",
    "print(\"Q3=\"+str(q3))\n",
    "iqr=q3-q1\n",
    "print(\"IQR=\"+str(iqr))\n",
    "lower=q1-1.5*iqr\n",
    "print(\"Lower=\"+str(lower))\n",
    "upper=q3+1.5*iqr\n",
    "print(\"Upper=\"+str(upper))"
   ]
  },
  {
   "cell_type": "code",
   "execution_count": 85,
   "id": "d5f544cb-11b5-466b-8047-e497acbeb38a",
   "metadata": {},
   "outputs": [
    {
     "name": "stdout",
     "output_type": "stream",
     "text": [
      "(10, 13)\n"
     ]
    },
    {
     "data": {
      "text/html": [
       "<div>\n",
       "<style scoped>\n",
       "    .dataframe tbody tr th:only-of-type {\n",
       "        vertical-align: middle;\n",
       "    }\n",
       "\n",
       "    .dataframe tbody tr th {\n",
       "        vertical-align: top;\n",
       "    }\n",
       "\n",
       "    .dataframe thead th {\n",
       "        text-align: right;\n",
       "    }\n",
       "</style>\n",
       "<table border=\"1\" class=\"dataframe\">\n",
       "  <thead>\n",
       "    <tr style=\"text-align: right;\">\n",
       "      <th></th>\n",
       "      <th>Patient_ID</th>\n",
       "      <th>Age</th>\n",
       "      <th>Gender</th>\n",
       "      <th>Admission_Type</th>\n",
       "      <th>Diagnosis</th>\n",
       "      <th>Num_Lab_Procedures</th>\n",
       "      <th>Num_Medications</th>\n",
       "      <th>Num_Outpatient_Visits</th>\n",
       "      <th>Num_Inpatient_Visits</th>\n",
       "      <th>Num_Emergency_Visits</th>\n",
       "      <th>Num_Diagnoses</th>\n",
       "      <th>A1C_Result</th>\n",
       "      <th>Readmitted</th>\n",
       "    </tr>\n",
       "  </thead>\n",
       "  <tbody>\n",
       "    <tr>\n",
       "      <th>50</th>\n",
       "      <td>51</td>\n",
       "      <td>150</td>\n",
       "      <td>Other</td>\n",
       "      <td>Urgent</td>\n",
       "      <td>Diabetes</td>\n",
       "      <td>88</td>\n",
       "      <td>10</td>\n",
       "      <td>4</td>\n",
       "      <td>3</td>\n",
       "      <td>4</td>\n",
       "      <td>5</td>\n",
       "      <td>Abnormal</td>\n",
       "      <td>Yes</td>\n",
       "    </tr>\n",
       "    <tr>\n",
       "      <th>51</th>\n",
       "      <td>52</td>\n",
       "      <td>150</td>\n",
       "      <td>Other</td>\n",
       "      <td>Emergency</td>\n",
       "      <td>Diabetes</td>\n",
       "      <td>86</td>\n",
       "      <td>22</td>\n",
       "      <td>1</td>\n",
       "      <td>2</td>\n",
       "      <td>3</td>\n",
       "      <td>2</td>\n",
       "      <td>Abnormal</td>\n",
       "      <td>Yes</td>\n",
       "    </tr>\n",
       "    <tr>\n",
       "      <th>52</th>\n",
       "      <td>53</td>\n",
       "      <td>150</td>\n",
       "      <td>Female</td>\n",
       "      <td>Urgent</td>\n",
       "      <td>Injury</td>\n",
       "      <td>93</td>\n",
       "      <td>19</td>\n",
       "      <td>0</td>\n",
       "      <td>1</td>\n",
       "      <td>3</td>\n",
       "      <td>8</td>\n",
       "      <td>Normal</td>\n",
       "      <td>Yes</td>\n",
       "    </tr>\n",
       "    <tr>\n",
       "      <th>53</th>\n",
       "      <td>54</td>\n",
       "      <td>150</td>\n",
       "      <td>Female</td>\n",
       "      <td>Elective</td>\n",
       "      <td>Diabetes</td>\n",
       "      <td>86</td>\n",
       "      <td>1</td>\n",
       "      <td>1</td>\n",
       "      <td>0</td>\n",
       "      <td>4</td>\n",
       "      <td>9</td>\n",
       "      <td>Normal</td>\n",
       "      <td>Yes</td>\n",
       "    </tr>\n",
       "    <tr>\n",
       "      <th>54</th>\n",
       "      <td>55</td>\n",
       "      <td>150</td>\n",
       "      <td>Other</td>\n",
       "      <td>Elective</td>\n",
       "      <td>Diabetes</td>\n",
       "      <td>44</td>\n",
       "      <td>7</td>\n",
       "      <td>3</td>\n",
       "      <td>3</td>\n",
       "      <td>4</td>\n",
       "      <td>4</td>\n",
       "      <td>NaN</td>\n",
       "      <td>Yes</td>\n",
       "    </tr>\n",
       "    <tr>\n",
       "      <th>55</th>\n",
       "      <td>56</td>\n",
       "      <td>150</td>\n",
       "      <td>Other</td>\n",
       "      <td>Elective</td>\n",
       "      <td>Diabetes</td>\n",
       "      <td>9</td>\n",
       "      <td>4</td>\n",
       "      <td>2</td>\n",
       "      <td>4</td>\n",
       "      <td>0</td>\n",
       "      <td>6</td>\n",
       "      <td>Normal</td>\n",
       "      <td>Yes</td>\n",
       "    </tr>\n",
       "    <tr>\n",
       "      <th>56</th>\n",
       "      <td>57</td>\n",
       "      <td>150</td>\n",
       "      <td>Female</td>\n",
       "      <td>Emergency</td>\n",
       "      <td>Diabetes</td>\n",
       "      <td>37</td>\n",
       "      <td>1</td>\n",
       "      <td>1</td>\n",
       "      <td>2</td>\n",
       "      <td>4</td>\n",
       "      <td>8</td>\n",
       "      <td>Abnormal</td>\n",
       "      <td>Yes</td>\n",
       "    </tr>\n",
       "    <tr>\n",
       "      <th>57</th>\n",
       "      <td>58</td>\n",
       "      <td>150</td>\n",
       "      <td>Female</td>\n",
       "      <td>Urgent</td>\n",
       "      <td>Injury</td>\n",
       "      <td>74</td>\n",
       "      <td>15</td>\n",
       "      <td>2</td>\n",
       "      <td>0</td>\n",
       "      <td>3</td>\n",
       "      <td>9</td>\n",
       "      <td>Abnormal</td>\n",
       "      <td>Yes</td>\n",
       "    </tr>\n",
       "    <tr>\n",
       "      <th>58</th>\n",
       "      <td>59</td>\n",
       "      <td>150</td>\n",
       "      <td>Male</td>\n",
       "      <td>Emergency</td>\n",
       "      <td>Diabetes</td>\n",
       "      <td>36</td>\n",
       "      <td>8</td>\n",
       "      <td>0</td>\n",
       "      <td>4</td>\n",
       "      <td>4</td>\n",
       "      <td>5</td>\n",
       "      <td>Normal</td>\n",
       "      <td>No</td>\n",
       "    </tr>\n",
       "    <tr>\n",
       "      <th>59</th>\n",
       "      <td>60</td>\n",
       "      <td>150</td>\n",
       "      <td>Male</td>\n",
       "      <td>Urgent</td>\n",
       "      <td>Infection</td>\n",
       "      <td>92</td>\n",
       "      <td>12</td>\n",
       "      <td>4</td>\n",
       "      <td>4</td>\n",
       "      <td>0</td>\n",
       "      <td>6</td>\n",
       "      <td>Abnormal</td>\n",
       "      <td>Yes</td>\n",
       "    </tr>\n",
       "  </tbody>\n",
       "</table>\n",
       "</div>"
      ],
      "text/plain": [
       "    Patient_ID  Age  Gender Admission_Type  Diagnosis  Num_Lab_Procedures  \\\n",
       "50          51  150   Other         Urgent   Diabetes                  88   \n",
       "51          52  150   Other      Emergency   Diabetes                  86   \n",
       "52          53  150  Female         Urgent     Injury                  93   \n",
       "53          54  150  Female       Elective   Diabetes                  86   \n",
       "54          55  150   Other       Elective   Diabetes                  44   \n",
       "55          56  150   Other       Elective   Diabetes                   9   \n",
       "56          57  150  Female      Emergency   Diabetes                  37   \n",
       "57          58  150  Female         Urgent     Injury                  74   \n",
       "58          59  150    Male      Emergency   Diabetes                  36   \n",
       "59          60  150    Male         Urgent  Infection                  92   \n",
       "\n",
       "    Num_Medications  Num_Outpatient_Visits  Num_Inpatient_Visits  \\\n",
       "50               10                      4                     3   \n",
       "51               22                      1                     2   \n",
       "52               19                      0                     1   \n",
       "53                1                      1                     0   \n",
       "54                7                      3                     3   \n",
       "55                4                      2                     4   \n",
       "56                1                      1                     2   \n",
       "57               15                      2                     0   \n",
       "58                8                      0                     4   \n",
       "59               12                      4                     4   \n",
       "\n",
       "    Num_Emergency_Visits  Num_Diagnoses A1C_Result Readmitted  \n",
       "50                     4              5   Abnormal        Yes  \n",
       "51                     3              2   Abnormal        Yes  \n",
       "52                     3              8     Normal        Yes  \n",
       "53                     4              9     Normal        Yes  \n",
       "54                     4              4        NaN        Yes  \n",
       "55                     0              6     Normal        Yes  \n",
       "56                     4              8   Abnormal        Yes  \n",
       "57                     3              9   Abnormal        Yes  \n",
       "58                     4              5     Normal         No  \n",
       "59                     0              6   Abnormal        Yes  "
      ]
     },
     "execution_count": 85,
     "metadata": {},
     "output_type": "execute_result"
    }
   ],
   "source": [
    "outlier=((df['Age']<lower)|(df['Age']>upper))\n",
    "outlier_detected=df[outlier]\n",
    "print(outlier_detected.shape)\n",
    "outlier_detected #As 90% the patients are getting readmitted with Age=150(outlier). Also, it abnormal for a person to have Age = 150. "
   ]
  },
  {
   "cell_type": "code",
   "execution_count": 86,
   "id": "3edfe98b-a437-4324-9f56-48525b07c41f",
   "metadata": {},
   "outputs": [
    {
     "name": "stdout",
     "output_type": "stream",
     "text": [
      "(990, 13)\n"
     ]
    },
    {
     "data": {
      "text/html": [
       "<div>\n",
       "<style scoped>\n",
       "    .dataframe tbody tr th:only-of-type {\n",
       "        vertical-align: middle;\n",
       "    }\n",
       "\n",
       "    .dataframe tbody tr th {\n",
       "        vertical-align: top;\n",
       "    }\n",
       "\n",
       "    .dataframe thead th {\n",
       "        text-align: right;\n",
       "    }\n",
       "</style>\n",
       "<table border=\"1\" class=\"dataframe\">\n",
       "  <thead>\n",
       "    <tr style=\"text-align: right;\">\n",
       "      <th></th>\n",
       "      <th>Patient_ID</th>\n",
       "      <th>Age</th>\n",
       "      <th>Gender</th>\n",
       "      <th>Admission_Type</th>\n",
       "      <th>Diagnosis</th>\n",
       "      <th>Num_Lab_Procedures</th>\n",
       "      <th>Num_Medications</th>\n",
       "      <th>Num_Outpatient_Visits</th>\n",
       "      <th>Num_Inpatient_Visits</th>\n",
       "      <th>Num_Emergency_Visits</th>\n",
       "      <th>Num_Diagnoses</th>\n",
       "      <th>A1C_Result</th>\n",
       "      <th>Readmitted</th>\n",
       "    </tr>\n",
       "  </thead>\n",
       "  <tbody>\n",
       "    <tr>\n",
       "      <th>0</th>\n",
       "      <td>1</td>\n",
       "      <td>69</td>\n",
       "      <td>Other</td>\n",
       "      <td>Emergency</td>\n",
       "      <td>Heart Disease</td>\n",
       "      <td>33</td>\n",
       "      <td>2</td>\n",
       "      <td>4</td>\n",
       "      <td>1</td>\n",
       "      <td>1</td>\n",
       "      <td>5</td>\n",
       "      <td>NaN</td>\n",
       "      <td>Yes</td>\n",
       "    </tr>\n",
       "    <tr>\n",
       "      <th>1</th>\n",
       "      <td>2</td>\n",
       "      <td>32</td>\n",
       "      <td>Female</td>\n",
       "      <td>Urgent</td>\n",
       "      <td>Diabetes</td>\n",
       "      <td>81</td>\n",
       "      <td>10</td>\n",
       "      <td>4</td>\n",
       "      <td>4</td>\n",
       "      <td>1</td>\n",
       "      <td>6</td>\n",
       "      <td>NaN</td>\n",
       "      <td>No</td>\n",
       "    </tr>\n",
       "    <tr>\n",
       "      <th>2</th>\n",
       "      <td>3</td>\n",
       "      <td>78</td>\n",
       "      <td>Female</td>\n",
       "      <td>Urgent</td>\n",
       "      <td>Heart Disease</td>\n",
       "      <td>75</td>\n",
       "      <td>29</td>\n",
       "      <td>4</td>\n",
       "      <td>0</td>\n",
       "      <td>3</td>\n",
       "      <td>5</td>\n",
       "      <td>Normal</td>\n",
       "      <td>No</td>\n",
       "    </tr>\n",
       "    <tr>\n",
       "      <th>3</th>\n",
       "      <td>4</td>\n",
       "      <td>38</td>\n",
       "      <td>Male</td>\n",
       "      <td>Elective</td>\n",
       "      <td>Diabetes</td>\n",
       "      <td>77</td>\n",
       "      <td>11</td>\n",
       "      <td>2</td>\n",
       "      <td>3</td>\n",
       "      <td>4</td>\n",
       "      <td>9</td>\n",
       "      <td>NaN</td>\n",
       "      <td>Yes</td>\n",
       "    </tr>\n",
       "    <tr>\n",
       "      <th>4</th>\n",
       "      <td>5</td>\n",
       "      <td>41</td>\n",
       "      <td>Female</td>\n",
       "      <td>Urgent</td>\n",
       "      <td>Diabetes</td>\n",
       "      <td>50</td>\n",
       "      <td>25</td>\n",
       "      <td>3</td>\n",
       "      <td>4</td>\n",
       "      <td>1</td>\n",
       "      <td>3</td>\n",
       "      <td>NaN</td>\n",
       "      <td>Yes</td>\n",
       "    </tr>\n",
       "    <tr>\n",
       "      <th>...</th>\n",
       "      <td>...</td>\n",
       "      <td>...</td>\n",
       "      <td>...</td>\n",
       "      <td>...</td>\n",
       "      <td>...</td>\n",
       "      <td>...</td>\n",
       "      <td>...</td>\n",
       "      <td>...</td>\n",
       "      <td>...</td>\n",
       "      <td>...</td>\n",
       "      <td>...</td>\n",
       "      <td>...</td>\n",
       "      <td>...</td>\n",
       "    </tr>\n",
       "    <tr>\n",
       "      <th>995</th>\n",
       "      <td>996</td>\n",
       "      <td>21</td>\n",
       "      <td>Female</td>\n",
       "      <td>Emergency</td>\n",
       "      <td>Heart Disease</td>\n",
       "      <td>68</td>\n",
       "      <td>10</td>\n",
       "      <td>2</td>\n",
       "      <td>3</td>\n",
       "      <td>2</td>\n",
       "      <td>9</td>\n",
       "      <td>Normal</td>\n",
       "      <td>No</td>\n",
       "    </tr>\n",
       "    <tr>\n",
       "      <th>996</th>\n",
       "      <td>997</td>\n",
       "      <td>43</td>\n",
       "      <td>Female</td>\n",
       "      <td>Emergency</td>\n",
       "      <td>Heart Disease</td>\n",
       "      <td>61</td>\n",
       "      <td>7</td>\n",
       "      <td>0</td>\n",
       "      <td>4</td>\n",
       "      <td>0</td>\n",
       "      <td>1</td>\n",
       "      <td>Normal</td>\n",
       "      <td>No</td>\n",
       "    </tr>\n",
       "    <tr>\n",
       "      <th>997</th>\n",
       "      <td>998</td>\n",
       "      <td>75</td>\n",
       "      <td>Male</td>\n",
       "      <td>Urgent</td>\n",
       "      <td>Diabetes</td>\n",
       "      <td>29</td>\n",
       "      <td>13</td>\n",
       "      <td>3</td>\n",
       "      <td>1</td>\n",
       "      <td>4</td>\n",
       "      <td>8</td>\n",
       "      <td>Normal</td>\n",
       "      <td>No</td>\n",
       "    </tr>\n",
       "    <tr>\n",
       "      <th>998</th>\n",
       "      <td>999</td>\n",
       "      <td>46</td>\n",
       "      <td>Other</td>\n",
       "      <td>Elective</td>\n",
       "      <td>Injury</td>\n",
       "      <td>19</td>\n",
       "      <td>20</td>\n",
       "      <td>1</td>\n",
       "      <td>4</td>\n",
       "      <td>4</td>\n",
       "      <td>1</td>\n",
       "      <td>Abnormal</td>\n",
       "      <td>No</td>\n",
       "    </tr>\n",
       "    <tr>\n",
       "      <th>999</th>\n",
       "      <td>1000</td>\n",
       "      <td>54</td>\n",
       "      <td>Male</td>\n",
       "      <td>Elective</td>\n",
       "      <td>Injury</td>\n",
       "      <td>43</td>\n",
       "      <td>28</td>\n",
       "      <td>2</td>\n",
       "      <td>0</td>\n",
       "      <td>4</td>\n",
       "      <td>8</td>\n",
       "      <td>Abnormal</td>\n",
       "      <td>Yes</td>\n",
       "    </tr>\n",
       "  </tbody>\n",
       "</table>\n",
       "<p>990 rows × 13 columns</p>\n",
       "</div>"
      ],
      "text/plain": [
       "     Patient_ID  Age  Gender Admission_Type      Diagnosis  \\\n",
       "0             1   69   Other      Emergency  Heart Disease   \n",
       "1             2   32  Female         Urgent       Diabetes   \n",
       "2             3   78  Female         Urgent  Heart Disease   \n",
       "3             4   38    Male       Elective       Diabetes   \n",
       "4             5   41  Female         Urgent       Diabetes   \n",
       "..          ...  ...     ...            ...            ...   \n",
       "995         996   21  Female      Emergency  Heart Disease   \n",
       "996         997   43  Female      Emergency  Heart Disease   \n",
       "997         998   75    Male         Urgent       Diabetes   \n",
       "998         999   46   Other       Elective         Injury   \n",
       "999        1000   54    Male       Elective         Injury   \n",
       "\n",
       "     Num_Lab_Procedures  Num_Medications  Num_Outpatient_Visits  \\\n",
       "0                    33                2                      4   \n",
       "1                    81               10                      4   \n",
       "2                    75               29                      4   \n",
       "3                    77               11                      2   \n",
       "4                    50               25                      3   \n",
       "..                  ...              ...                    ...   \n",
       "995                  68               10                      2   \n",
       "996                  61                7                      0   \n",
       "997                  29               13                      3   \n",
       "998                  19               20                      1   \n",
       "999                  43               28                      2   \n",
       "\n",
       "     Num_Inpatient_Visits  Num_Emergency_Visits  Num_Diagnoses A1C_Result  \\\n",
       "0                       1                     1              5        NaN   \n",
       "1                       4                     1              6        NaN   \n",
       "2                       0                     3              5     Normal   \n",
       "3                       3                     4              9        NaN   \n",
       "4                       4                     1              3        NaN   \n",
       "..                    ...                   ...            ...        ...   \n",
       "995                     3                     2              9     Normal   \n",
       "996                     4                     0              1     Normal   \n",
       "997                     1                     4              8     Normal   \n",
       "998                     4                     4              1   Abnormal   \n",
       "999                     0                     4              8   Abnormal   \n",
       "\n",
       "    Readmitted  \n",
       "0          Yes  \n",
       "1           No  \n",
       "2           No  \n",
       "3          Yes  \n",
       "4          Yes  \n",
       "..         ...  \n",
       "995         No  \n",
       "996         No  \n",
       "997         No  \n",
       "998         No  \n",
       "999        Yes  \n",
       "\n",
       "[990 rows x 13 columns]"
      ]
     },
     "execution_count": 86,
     "metadata": {},
     "output_type": "execute_result"
    }
   ],
   "source": [
    "outlier_removed=df[~outlier] # let's drop these columns, whose age = 150\n",
    "print(outlier_removed.shape)\n",
    "outlier_removed"
   ]
  },
  {
   "cell_type": "code",
   "execution_count": 87,
   "id": "0fd1ac8e-f961-40aa-8e69-86c62d4061af",
   "metadata": {},
   "outputs": [],
   "source": [
    "outlier_removed.to_csv(r'df_1.csv',index=False)"
   ]
  },
  {
   "cell_type": "code",
   "execution_count": 88,
   "id": "2f3675d0-61a3-4d4b-a03b-df99ae017029",
   "metadata": {},
   "outputs": [],
   "source": [
    "df=pd.read_csv(r'df_1.csv')"
   ]
  },
  {
   "cell_type": "code",
   "execution_count": 89,
   "id": "ac1644c7-bb20-44dc-bb59-e3caa72bb5ed",
   "metadata": {},
   "outputs": [
    {
     "data": {
      "text/plain": [
       "<Axes: xlabel='Num_Lab_Procedures'>"
      ]
     },
     "execution_count": 89,
     "metadata": {},
     "output_type": "execute_result"
    },
    {
     "data": {
      "image/png": "[encoded data removed]",
      "text/plain": [
       "<Figure size 800x550 with 1 Axes>"
      ]
     },
     "metadata": {},
     "output_type": "display_data"
    }
   ],
   "source": [
    "sns.boxplot(x=df['Num_Lab_Procedures']) # No outlier"
   ]
  },
  {
   "cell_type": "code",
   "execution_count": 90,
   "id": "5ca85a10-22a5-46a8-acd3-1bf452e38e34",
   "metadata": {},
   "outputs": [
    {
     "data": {
      "text/plain": [
       "<Axes: xlabel='Num_Medications'>"
      ]
     },
     "execution_count": 90,
     "metadata": {},
     "output_type": "execute_result"
    },
    {
     "data": {
      "image/png": "[encoded data removed]",
      "text/plain": [
       "<Figure size 800x550 with 1 Axes>"
      ]
     },
     "metadata": {},
     "output_type": "display_data"
    }
   ],
   "source": [
    "sns.boxplot(x=df['Num_Medications']) # No outlier"
   ]
  },
  {
   "cell_type": "code",
   "execution_count": 91,
   "id": "1df099eb-a5fd-46bb-8159-44c47d41d317",
   "metadata": {},
   "outputs": [
    {
     "data": {
      "text/plain": [
       "<Axes: xlabel='Num_Outpatient_Visits'>"
      ]
     },
     "execution_count": 91,
     "metadata": {},
     "output_type": "execute_result"
    },
    {
     "data": {
      "image/png": "[encoded data removed]",
      "text/plain": [
       "<Figure size 800x550 with 1 Axes>"
      ]
     },
     "metadata": {},
     "output_type": "display_data"
    }
   ],
   "source": [
    "sns.boxplot(x=df['Num_Outpatient_Visits']) # No outlier"
   ]
  },
  {
   "cell_type": "code",
   "execution_count": 92,
   "id": "1e51a0d0-65ab-4e6d-9e9a-ae3adaf464e8",
   "metadata": {},
   "outputs": [
    {
     "data": {
      "text/plain": [
       "<Axes: xlabel='Num_Inpatient_Visits'>"
      ]
     },
     "execution_count": 92,
     "metadata": {},
     "output_type": "execute_result"
    },
    {
     "data": {
      "image/png": "[encoded data removed]",
      "text/plain": [
       "<Figure size 800x550 with 1 Axes>"
      ]
     },
     "metadata": {},
     "output_type": "display_data"
    }
   ],
   "source": [
    "sns.boxplot(x=df['Num_Inpatient_Visits']) # No outlier"
   ]
  },
  {
   "cell_type": "code",
   "execution_count": 93,
   "id": "ab510d50-22a7-4982-99bb-09409ad8062b",
   "metadata": {},
   "outputs": [
    {
     "data": {
      "text/plain": [
       "<Axes: xlabel='Num_Emergency_Visits'>"
      ]
     },
     "execution_count": 93,
     "metadata": {},
     "output_type": "execute_result"
    },
    {
     "data": {
      "image/png": "[encoded data removed]",
      "text/plain": [
       "<Figure size 800x550 with 1 Axes>"
      ]
     },
     "metadata": {},
     "output_type": "display_data"
    }
   ],
   "source": [
    "sns.boxplot(x=df['Num_Emergency_Visits']) # No outlier"
   ]
  },
  {
   "cell_type": "code",
   "execution_count": 94,
   "id": "5ebf15c6-4d8b-4a32-b10e-f7d14b783354",
   "metadata": {},
   "outputs": [
    {
     "data": {
      "text/plain": [
       "<Axes: xlabel='Num_Diagnoses'>"
      ]
     },
     "execution_count": 94,
     "metadata": {},
     "output_type": "execute_result"
    },
    {
     "data": {
      "image/png": "[encoded data removed]",
      "text/plain": [
       "<Figure size 800x550 with 1 Axes>"
      ]
     },
     "metadata": {},
     "output_type": "display_data"
    }
   ],
   "source": [
    "sns.boxplot(x=df['Num_Diagnoses']) # No outlier"
   ]
  },
  {
   "cell_type": "code",
   "execution_count": 95,
   "id": "2cf81787-c181-43a9-bc9a-19638b40a6b3",
   "metadata": {},
   "outputs": [
    {
     "data": {
      "text/plain": [
       "Gender\n",
       "Male      344\n",
       "Female    333\n",
       "Other     313\n",
       "Name: count, dtype: int64"
      ]
     },
     "execution_count": 95,
     "metadata": {},
     "output_type": "execute_result"
    }
   ],
   "source": [
    "df['Gender'].value_counts()"
   ]
  },
  {
   "cell_type": "code",
   "execution_count": 96,
   "id": "973ff29d-536d-47d6-a570-68f0ae3dc577",
   "metadata": {},
   "outputs": [
    {
     "data": {
      "text/plain": [
       "Admission_Type\n",
       "Elective     342\n",
       "Emergency    334\n",
       "Urgent       314\n",
       "Name: count, dtype: int64"
      ]
     },
     "execution_count": 96,
     "metadata": {},
     "output_type": "execute_result"
    }
   ],
   "source": [
    "df['Admission_Type'].value_counts()"
   ]
  },
  {
   "cell_type": "code",
   "execution_count": 97,
   "id": "7dba31c1-b45a-48ac-ab90-ca0666d1fdd8",
   "metadata": {},
   "outputs": [
    {
     "data": {
      "text/plain": [
       "Diagnosis\n",
       "Diabetes         265\n",
       "Infection        246\n",
       "Injury           242\n",
       "Heart Disease    237\n",
       "Name: count, dtype: int64"
      ]
     },
     "execution_count": 97,
     "metadata": {},
     "output_type": "execute_result"
    }
   ],
   "source": [
    "df['Diagnosis'].value_counts()"
   ]
  },
  {
   "cell_type": "code",
   "execution_count": 99,
   "id": "754fb4dd-0e39-4bd4-95dd-550aecff579f",
   "metadata": {},
   "outputs": [
    {
     "data": {
      "text/plain": [
       "Readmitted\n",
       "No     502\n",
       "Yes    488\n",
       "Name: count, dtype: int64"
      ]
     },
     "execution_count": 99,
     "metadata": {},
     "output_type": "execute_result"
    }
   ],
   "source": [
    "df['Readmitted'].value_counts() # Slight data imbalance, need to handle them"
   ]
  },
  {
   "cell_type": "raw",
   "id": "c464febe-c45b-4f91-a53c-213195f9a720",
   "metadata": {},
   "source": [
    "Categorical to numerical encoding :"
   ]
  },
  {
   "cell_type": "code",
   "execution_count": 100,
   "id": "a6900e92-6664-4b82-8e7c-412d04c38384",
   "metadata": {},
   "outputs": [],
   "source": [
    "clean_df=pd.read_csv(r'df_1.csv')"
   ]
  },
  {
   "cell_type": "code",
   "execution_count": 101,
   "id": "bbb9207b-3b3f-4598-8058-789c5d14e320",
   "metadata": {},
   "outputs": [
    {
     "data": {
      "text/html": [
       "<div>\n",
       "<style scoped>\n",
       "    .dataframe tbody tr th:only-of-type {\n",
       "        vertical-align: middle;\n",
       "    }\n",
       "\n",
       "    .dataframe tbody tr th {\n",
       "        vertical-align: top;\n",
       "    }\n",
       "\n",
       "    .dataframe thead th {\n",
       "        text-align: right;\n",
       "    }\n",
       "</style>\n",
       "<table border=\"1\" class=\"dataframe\">\n",
       "  <thead>\n",
       "    <tr style=\"text-align: right;\">\n",
       "      <th></th>\n",
       "      <th>Patient_ID</th>\n",
       "      <th>Age</th>\n",
       "      <th>Gender</th>\n",
       "      <th>Admission_Type</th>\n",
       "      <th>Diagnosis</th>\n",
       "      <th>Num_Lab_Procedures</th>\n",
       "      <th>Num_Medications</th>\n",
       "      <th>Num_Outpatient_Visits</th>\n",
       "      <th>Num_Inpatient_Visits</th>\n",
       "      <th>Num_Emergency_Visits</th>\n",
       "      <th>Num_Diagnoses</th>\n",
       "      <th>A1C_Result</th>\n",
       "      <th>Readmitted</th>\n",
       "    </tr>\n",
       "  </thead>\n",
       "  <tbody>\n",
       "    <tr>\n",
       "      <th>0</th>\n",
       "      <td>1</td>\n",
       "      <td>69</td>\n",
       "      <td>Other</td>\n",
       "      <td>Emergency</td>\n",
       "      <td>Heart Disease</td>\n",
       "      <td>33</td>\n",
       "      <td>2</td>\n",
       "      <td>4</td>\n",
       "      <td>1</td>\n",
       "      <td>1</td>\n",
       "      <td>5</td>\n",
       "      <td>NaN</td>\n",
       "      <td>Yes</td>\n",
       "    </tr>\n",
       "    <tr>\n",
       "      <th>1</th>\n",
       "      <td>2</td>\n",
       "      <td>32</td>\n",
       "      <td>Female</td>\n",
       "      <td>Urgent</td>\n",
       "      <td>Diabetes</td>\n",
       "      <td>81</td>\n",
       "      <td>10</td>\n",
       "      <td>4</td>\n",
       "      <td>4</td>\n",
       "      <td>1</td>\n",
       "      <td>6</td>\n",
       "      <td>NaN</td>\n",
       "      <td>No</td>\n",
       "    </tr>\n",
       "    <tr>\n",
       "      <th>2</th>\n",
       "      <td>3</td>\n",
       "      <td>78</td>\n",
       "      <td>Female</td>\n",
       "      <td>Urgent</td>\n",
       "      <td>Heart Disease</td>\n",
       "      <td>75</td>\n",
       "      <td>29</td>\n",
       "      <td>4</td>\n",
       "      <td>0</td>\n",
       "      <td>3</td>\n",
       "      <td>5</td>\n",
       "      <td>Normal</td>\n",
       "      <td>No</td>\n",
       "    </tr>\n",
       "    <tr>\n",
       "      <th>3</th>\n",
       "      <td>4</td>\n",
       "      <td>38</td>\n",
       "      <td>Male</td>\n",
       "      <td>Elective</td>\n",
       "      <td>Diabetes</td>\n",
       "      <td>77</td>\n",
       "      <td>11</td>\n",
       "      <td>2</td>\n",
       "      <td>3</td>\n",
       "      <td>4</td>\n",
       "      <td>9</td>\n",
       "      <td>NaN</td>\n",
       "      <td>Yes</td>\n",
       "    </tr>\n",
       "    <tr>\n",
       "      <th>4</th>\n",
       "      <td>5</td>\n",
       "      <td>41</td>\n",
       "      <td>Female</td>\n",
       "      <td>Urgent</td>\n",
       "      <td>Diabetes</td>\n",
       "      <td>50</td>\n",
       "      <td>25</td>\n",
       "      <td>3</td>\n",
       "      <td>4</td>\n",
       "      <td>1</td>\n",
       "      <td>3</td>\n",
       "      <td>NaN</td>\n",
       "      <td>Yes</td>\n",
       "    </tr>\n",
       "    <tr>\n",
       "      <th>...</th>\n",
       "      <td>...</td>\n",
       "      <td>...</td>\n",
       "      <td>...</td>\n",
       "      <td>...</td>\n",
       "      <td>...</td>\n",
       "      <td>...</td>\n",
       "      <td>...</td>\n",
       "      <td>...</td>\n",
       "      <td>...</td>\n",
       "      <td>...</td>\n",
       "      <td>...</td>\n",
       "      <td>...</td>\n",
       "      <td>...</td>\n",
       "    </tr>\n",
       "    <tr>\n",
       "      <th>985</th>\n",
       "      <td>996</td>\n",
       "      <td>21</td>\n",
       "      <td>Female</td>\n",
       "      <td>Emergency</td>\n",
       "      <td>Heart Disease</td>\n",
       "      <td>68</td>\n",
       "      <td>10</td>\n",
       "      <td>2</td>\n",
       "      <td>3</td>\n",
       "      <td>2</td>\n",
       "      <td>9</td>\n",
       "      <td>Normal</td>\n",
       "      <td>No</td>\n",
       "    </tr>\n",
       "    <tr>\n",
       "      <th>986</th>\n",
       "      <td>997</td>\n",
       "      <td>43</td>\n",
       "      <td>Female</td>\n",
       "      <td>Emergency</td>\n",
       "      <td>Heart Disease</td>\n",
       "      <td>61</td>\n",
       "      <td>7</td>\n",
       "      <td>0</td>\n",
       "      <td>4</td>\n",
       "      <td>0</td>\n",
       "      <td>1</td>\n",
       "      <td>Normal</td>\n",
       "      <td>No</td>\n",
       "    </tr>\n",
       "    <tr>\n",
       "      <th>987</th>\n",
       "      <td>998</td>\n",
       "      <td>75</td>\n",
       "      <td>Male</td>\n",
       "      <td>Urgent</td>\n",
       "      <td>Diabetes</td>\n",
       "      <td>29</td>\n",
       "      <td>13</td>\n",
       "      <td>3</td>\n",
       "      <td>1</td>\n",
       "      <td>4</td>\n",
       "      <td>8</td>\n",
       "      <td>Normal</td>\n",
       "      <td>No</td>\n",
       "    </tr>\n",
       "    <tr>\n",
       "      <th>988</th>\n",
       "      <td>999</td>\n",
       "      <td>46</td>\n",
       "      <td>Other</td>\n",
       "      <td>Elective</td>\n",
       "      <td>Injury</td>\n",
       "      <td>19</td>\n",
       "      <td>20</td>\n",
       "      <td>1</td>\n",
       "      <td>4</td>\n",
       "      <td>4</td>\n",
       "      <td>1</td>\n",
       "      <td>Abnormal</td>\n",
       "      <td>No</td>\n",
       "    </tr>\n",
       "    <tr>\n",
       "      <th>989</th>\n",
       "      <td>1000</td>\n",
       "      <td>54</td>\n",
       "      <td>Male</td>\n",
       "      <td>Elective</td>\n",
       "      <td>Injury</td>\n",
       "      <td>43</td>\n",
       "      <td>28</td>\n",
       "      <td>2</td>\n",
       "      <td>0</td>\n",
       "      <td>4</td>\n",
       "      <td>8</td>\n",
       "      <td>Abnormal</td>\n",
       "      <td>Yes</td>\n",
       "    </tr>\n",
       "  </tbody>\n",
       "</table>\n",
       "<p>990 rows × 13 columns</p>\n",
       "</div>"
      ],
      "text/plain": [
       "     Patient_ID  Age  Gender Admission_Type      Diagnosis  \\\n",
       "0             1   69   Other      Emergency  Heart Disease   \n",
       "1             2   32  Female         Urgent       Diabetes   \n",
       "2             3   78  Female         Urgent  Heart Disease   \n",
       "3             4   38    Male       Elective       Diabetes   \n",
       "4             5   41  Female         Urgent       Diabetes   \n",
       "..          ...  ...     ...            ...            ...   \n",
       "985         996   21  Female      Emergency  Heart Disease   \n",
       "986         997   43  Female      Emergency  Heart Disease   \n",
       "987         998   75    Male         Urgent       Diabetes   \n",
       "988         999   46   Other       Elective         Injury   \n",
       "989        1000   54    Male       Elective         Injury   \n",
       "\n",
       "     Num_Lab_Procedures  Num_Medications  Num_Outpatient_Visits  \\\n",
       "0                    33                2                      4   \n",
       "1                    81               10                      4   \n",
       "2                    75               29                      4   \n",
       "3                    77               11                      2   \n",
       "4                    50               25                      3   \n",
       "..                  ...              ...                    ...   \n",
       "985                  68               10                      2   \n",
       "986                  61                7                      0   \n",
       "987                  29               13                      3   \n",
       "988                  19               20                      1   \n",
       "989                  43               28                      2   \n",
       "\n",
       "     Num_Inpatient_Visits  Num_Emergency_Visits  Num_Diagnoses A1C_Result  \\\n",
       "0                       1                     1              5        NaN   \n",
       "1                       4                     1              6        NaN   \n",
       "2                       0                     3              5     Normal   \n",
       "3                       3                     4              9        NaN   \n",
       "4                       4                     1              3        NaN   \n",
       "..                    ...                   ...            ...        ...   \n",
       "985                     3                     2              9     Normal   \n",
       "986                     4                     0              1     Normal   \n",
       "987                     1                     4              8     Normal   \n",
       "988                     4                     4              1   Abnormal   \n",
       "989                     0                     4              8   Abnormal   \n",
       "\n",
       "    Readmitted  \n",
       "0          Yes  \n",
       "1           No  \n",
       "2           No  \n",
       "3          Yes  \n",
       "4          Yes  \n",
       "..         ...  \n",
       "985         No  \n",
       "986         No  \n",
       "987         No  \n",
       "988         No  \n",
       "989        Yes  \n",
       "\n",
       "[990 rows x 13 columns]"
      ]
     },
     "execution_count": 101,
     "metadata": {},
     "output_type": "execute_result"
    }
   ],
   "source": [
    "clean_df"
   ]
  },
  {
   "cell_type": "code",
   "execution_count": 102,
   "id": "67b2f6d1-f227-45d2-8c91-e1e73fc49826",
   "metadata": {},
   "outputs": [
    {
     "data": {
      "text/plain": [
       "Index(['Patient_ID', 'Age', 'Num_Lab_Procedures', 'Num_Medications',\n",
       "       'Num_Outpatient_Visits', 'Num_Inpatient_Visits', 'Num_Emergency_Visits',\n",
       "       'Num_Diagnoses', 'A1C_Result', 'Gender_Female', 'Gender_Male',\n",
       "       'Gender_Other', 'Admission_Type_Elective', 'Admission_Type_Emergency',\n",
       "       'Admission_Type_Urgent', 'Diagnosis_Diabetes',\n",
       "       'Diagnosis_Heart Disease', 'Diagnosis_Infection', 'Diagnosis_Injury',\n",
       "       'Readmitted_No', 'Readmitted_Yes'],\n",
       "      dtype='object')"
      ]
     },
     "execution_count": 102,
     "metadata": {},
     "output_type": "execute_result"
    }
   ],
   "source": [
    "clean_encode_df = pd.get_dummies(clean_df, columns = ['Gender', 'Admission_Type','Diagnosis','Readmitted']) \n",
    "clean_encode_df.columns"
   ]
  },
  {
   "cell_type": "code",
   "execution_count": 103,
   "id": "e02647a0-9207-4418-9fd1-88389bbdcaac",
   "metadata": {},
   "outputs": [],
   "source": [
    "columns_to_convert = ['Gender_Female', 'Gender_Male', 'Gender_Other','Admission_Type_Elective','Admission_Type_Emergency','Admission_Type_Urgent','Diagnosis_Diabetes','Diagnosis_Heart Disease','Diagnosis_Infection','Diagnosis_Injury','Readmitted_No','Readmitted_Yes']\n",
    "for column in columns_to_convert:\n",
    "    clean_encode_df[column] = clean_encode_df[column].astype(int)"
   ]
  },
  {
   "cell_type": "code",
   "execution_count": 104,
   "id": "9e0128f8-a3c7-4298-8c97-8547174016a6",
   "metadata": {},
   "outputs": [
    {
     "data": {
      "text/html": [
       "<div>\n",
       "<style scoped>\n",
       "    .dataframe tbody tr th:only-of-type {\n",
       "        vertical-align: middle;\n",
       "    }\n",
       "\n",
       "    .dataframe tbody tr th {\n",
       "        vertical-align: top;\n",
       "    }\n",
       "\n",
       "    .dataframe thead th {\n",
       "        text-align: right;\n",
       "    }\n",
       "</style>\n",
       "<table border=\"1\" class=\"dataframe\">\n",
       "  <thead>\n",
       "    <tr style=\"text-align: right;\">\n",
       "      <th></th>\n",
       "      <th>Patient_ID</th>\n",
       "      <th>Age</th>\n",
       "      <th>Num_Lab_Procedures</th>\n",
       "      <th>Num_Medications</th>\n",
       "      <th>Num_Outpatient_Visits</th>\n",
       "      <th>Num_Inpatient_Visits</th>\n",
       "      <th>Num_Emergency_Visits</th>\n",
       "      <th>Num_Diagnoses</th>\n",
       "      <th>A1C_Result</th>\n",
       "      <th>Gender_Female</th>\n",
       "      <th>...</th>\n",
       "      <th>Gender_Other</th>\n",
       "      <th>Admission_Type_Elective</th>\n",
       "      <th>Admission_Type_Emergency</th>\n",
       "      <th>Admission_Type_Urgent</th>\n",
       "      <th>Diagnosis_Diabetes</th>\n",
       "      <th>Diagnosis_Heart Disease</th>\n",
       "      <th>Diagnosis_Infection</th>\n",
       "      <th>Diagnosis_Injury</th>\n",
       "      <th>Readmitted_No</th>\n",
       "      <th>Readmitted_Yes</th>\n",
       "    </tr>\n",
       "  </thead>\n",
       "  <tbody>\n",
       "    <tr>\n",
       "      <th>0</th>\n",
       "      <td>1</td>\n",
       "      <td>69</td>\n",
       "      <td>33</td>\n",
       "      <td>2</td>\n",
       "      <td>4</td>\n",
       "      <td>1</td>\n",
       "      <td>1</td>\n",
       "      <td>5</td>\n",
       "      <td>NaN</td>\n",
       "      <td>0</td>\n",
       "      <td>...</td>\n",
       "      <td>1</td>\n",
       "      <td>0</td>\n",
       "      <td>1</td>\n",
       "      <td>0</td>\n",
       "      <td>0</td>\n",
       "      <td>1</td>\n",
       "      <td>0</td>\n",
       "      <td>0</td>\n",
       "      <td>0</td>\n",
       "      <td>1</td>\n",
       "    </tr>\n",
       "    <tr>\n",
       "      <th>1</th>\n",
       "      <td>2</td>\n",
       "      <td>32</td>\n",
       "      <td>81</td>\n",
       "      <td>10</td>\n",
       "      <td>4</td>\n",
       "      <td>4</td>\n",
       "      <td>1</td>\n",
       "      <td>6</td>\n",
       "      <td>NaN</td>\n",
       "      <td>1</td>\n",
       "      <td>...</td>\n",
       "      <td>0</td>\n",
       "      <td>0</td>\n",
       "      <td>0</td>\n",
       "      <td>1</td>\n",
       "      <td>1</td>\n",
       "      <td>0</td>\n",
       "      <td>0</td>\n",
       "      <td>0</td>\n",
       "      <td>1</td>\n",
       "      <td>0</td>\n",
       "    </tr>\n",
       "    <tr>\n",
       "      <th>2</th>\n",
       "      <td>3</td>\n",
       "      <td>78</td>\n",
       "      <td>75</td>\n",
       "      <td>29</td>\n",
       "      <td>4</td>\n",
       "      <td>0</td>\n",
       "      <td>3</td>\n",
       "      <td>5</td>\n",
       "      <td>Normal</td>\n",
       "      <td>1</td>\n",
       "      <td>...</td>\n",
       "      <td>0</td>\n",
       "      <td>0</td>\n",
       "      <td>0</td>\n",
       "      <td>1</td>\n",
       "      <td>0</td>\n",
       "      <td>1</td>\n",
       "      <td>0</td>\n",
       "      <td>0</td>\n",
       "      <td>1</td>\n",
       "      <td>0</td>\n",
       "    </tr>\n",
       "    <tr>\n",
       "      <th>3</th>\n",
       "      <td>4</td>\n",
       "      <td>38</td>\n",
       "      <td>77</td>\n",
       "      <td>11</td>\n",
       "      <td>2</td>\n",
       "      <td>3</td>\n",
       "      <td>4</td>\n",
       "      <td>9</td>\n",
       "      <td>NaN</td>\n",
       "      <td>0</td>\n",
       "      <td>...</td>\n",
       "      <td>0</td>\n",
       "      <td>1</td>\n",
       "      <td>0</td>\n",
       "      <td>0</td>\n",
       "      <td>1</td>\n",
       "      <td>0</td>\n",
       "      <td>0</td>\n",
       "      <td>0</td>\n",
       "      <td>0</td>\n",
       "      <td>1</td>\n",
       "    </tr>\n",
       "    <tr>\n",
       "      <th>4</th>\n",
       "      <td>5</td>\n",
       "      <td>41</td>\n",
       "      <td>50</td>\n",
       "      <td>25</td>\n",
       "      <td>3</td>\n",
       "      <td>4</td>\n",
       "      <td>1</td>\n",
       "      <td>3</td>\n",
       "      <td>NaN</td>\n",
       "      <td>1</td>\n",
       "      <td>...</td>\n",
       "      <td>0</td>\n",
       "      <td>0</td>\n",
       "      <td>0</td>\n",
       "      <td>1</td>\n",
       "      <td>1</td>\n",
       "      <td>0</td>\n",
       "      <td>0</td>\n",
       "      <td>0</td>\n",
       "      <td>0</td>\n",
       "      <td>1</td>\n",
       "    </tr>\n",
       "  </tbody>\n",
       "</table>\n",
       "<p>5 rows × 21 columns</p>\n",
       "</div>"
      ],
      "text/plain": [
       "   Patient_ID  Age  Num_Lab_Procedures  Num_Medications  \\\n",
       "0           1   69                  33                2   \n",
       "1           2   32                  81               10   \n",
       "2           3   78                  75               29   \n",
       "3           4   38                  77               11   \n",
       "4           5   41                  50               25   \n",
       "\n",
       "   Num_Outpatient_Visits  Num_Inpatient_Visits  Num_Emergency_Visits  \\\n",
       "0                      4                     1                     1   \n",
       "1                      4                     4                     1   \n",
       "2                      4                     0                     3   \n",
       "3                      2                     3                     4   \n",
       "4                      3                     4                     1   \n",
       "\n",
       "   Num_Diagnoses A1C_Result  Gender_Female  ...  Gender_Other  \\\n",
       "0              5        NaN              0  ...             1   \n",
       "1              6        NaN              1  ...             0   \n",
       "2              5     Normal              1  ...             0   \n",
       "3              9        NaN              0  ...             0   \n",
       "4              3        NaN              1  ...             0   \n",
       "\n",
       "   Admission_Type_Elective  Admission_Type_Emergency  Admission_Type_Urgent  \\\n",
       "0                        0                         1                      0   \n",
       "1                        0                         0                      1   \n",
       "2                        0                         0                      1   \n",
       "3                        1                         0                      0   \n",
       "4                        0                         0                      1   \n",
       "\n",
       "   Diagnosis_Diabetes  Diagnosis_Heart Disease  Diagnosis_Infection  \\\n",
       "0                   0                        1                    0   \n",
       "1                   1                        0                    0   \n",
       "2                   0                        1                    0   \n",
       "3                   1                        0                    0   \n",
       "4                   1                        0                    0   \n",
       "\n",
       "   Diagnosis_Injury  Readmitted_No  Readmitted_Yes  \n",
       "0                 0              0               1  \n",
       "1                 0              1               0  \n",
       "2                 0              1               0  \n",
       "3                 0              0               1  \n",
       "4                 0              0               1  \n",
       "\n",
       "[5 rows x 21 columns]"
      ]
     },
     "execution_count": 104,
     "metadata": {},
     "output_type": "execute_result"
    }
   ],
   "source": [
    "clean_encode_df.to_csv(r'df_2.csv',index=False)\n",
    "clean_encode_df.head()"
   ]
  },
  {
   "cell_type": "markdown",
   "id": "75328293-a2f1-4d06-b07b-486ed1bbbfdd",
   "metadata": {},
   "source": [
    "## Model Building :"
   ]
  },
  {
   "cell_type": "code",
   "execution_count": 105,
   "id": "f921a65e-1a73-4300-8ed2-704c8fe452b7",
   "metadata": {},
   "outputs": [],
   "source": [
    "df=pd.read_csv(r'df_2.csv')"
   ]
  },
  {
   "cell_type": "markdown",
   "id": "1e5ce660-d95f-4013-bd01-5578fbe299de",
   "metadata": {},
   "source": [
    "#### train_test split :"
   ]
  },
  {
   "cell_type": "code",
   "execution_count": 106,
   "id": "135c057c-8129-4a55-b418-ed19cca080d3",
   "metadata": {},
   "outputs": [],
   "source": [
    "X = df.iloc[:,[1,2,3,4,5,6,7,9,10,11,12,13,14,15,16,17,18]] #17 independent column_names = ['Age', 'Num_Lab_Procedures', 'Num_Medications','Num_Outpatient_Visits','Num_Inpatient_Visits','Num_Emergency_Visits','Num_Diagnoses','Gender_Female','Gender_Male','Gender_Other','Admission_Type_Elective','Admission_Type_Emergency','Admission_Type_Urgent','Diagnosis_Diabetes','Diagnosis_Heart Disease','Diagnosis_Infection','Diagnosis_Injury'] \n",
    "y = df.iloc[:, 20].ravel() #1 dependent column = ['Readmission_Yes']"
   ]
  },
  {
   "cell_type": "code",
   "execution_count": 107,
   "id": "7591b39f-bdcf-43cb-8440-21d1c7655b46",
   "metadata": {},
   "outputs": [],
   "source": [
    "X_train, X_test, y_train, y_test = train_test_split(X, y, test_size=0.2, random_state=42)"
   ]
  },
  {
   "cell_type": "markdown",
   "id": "b4048a35-ab9f-4a0f-bf80-4d6c35391ae2",
   "metadata": {},
   "source": [
    "#### SMOTE :"
   ]
  },
  {
   "cell_type": "code",
   "execution_count": 108,
   "id": "f533f908-e7ac-40e5-9c03-38459747b18e",
   "metadata": {},
   "outputs": [
    {
     "name": "stdout",
     "output_type": "stream",
     "text": [
      "Before OverSampling, counts of label '1': 389\n",
      "Before OverSampling, counts of label '0': 403 \n",
      "\n",
      "After OverSampling, the shape of train_X: (806, 17)\n",
      "After OverSampling, the shape of train_y: (806,) \n",
      "\n",
      "After OverSampling, counts of label '1': 403\n",
      "After OverSampling, counts of label '0': 403\n"
     ]
    }
   ],
   "source": [
    "print(\"Before OverSampling, counts of label '1': {}\".format(sum(y_train == 1))) \n",
    "print(\"Before OverSampling, counts of label '0': {} \\n\".format(sum(y_train == 0))) \n",
    "  \n",
    "sm = SMOTE(random_state = 2) \n",
    "X_train_smote, y_train_smote = sm.fit_resample(X_train, y_train.ravel()) \n",
    "  \n",
    "print('After OverSampling, the shape of train_X: {}'.format(X_train_smote.shape)) \n",
    "print('After OverSampling, the shape of train_y: {} \\n'.format(y_train_smote.shape)) \n",
    "  \n",
    "print(\"After OverSampling, counts of label '1': {}\".format(sum(y_train_smote == 1))) \n",
    "print(\"After OverSampling, counts of label '0': {}\".format(sum(y_train_smote == 0))) "
   ]
  },
  {
   "cell_type": "markdown",
   "id": "5b01cfcd-729a-4d92-a6a1-57051f4b2b96",
   "metadata": {},
   "source": [
    "#### Scaling :"
   ]
  },
  {
   "cell_type": "code",
   "execution_count": 109,
   "id": "348c6e78-8182-4b9f-9408-5475611198ce",
   "metadata": {},
   "outputs": [
    {
     "data": {
      "text/html": [
       "<style>#sk-container-id-9 {color: black;}#sk-container-id-9 pre{padding: 0;}#sk-container-id-9 div.sk-toggleable {background-color: white;}#sk-container-id-9 label.sk-toggleable__label {cursor: pointer;display: block;width: 100%;margin-bottom: 0;padding: 0.3em;box-sizing: border-box;text-align: center;}#sk-container-id-9 label.sk-toggleable__label-arrow:before {content: \"▸\";float: left;margin-right: 0.25em;color: #696969;}#sk-container-id-9 label.sk-toggleable__label-arrow:hover:before {color: black;}#sk-container-id-9 div.sk-estimator:hover label.sk-toggleable__label-arrow:before {color: black;}#sk-container-id-9 div.sk-toggleable__content {max-height: 0;max-width: 0;overflow: hidden;text-align: left;background-color: #f0f8ff;}#sk-container-id-9 div.sk-toggleable__content pre {margin: 0.2em;color: black;border-radius: 0.25em;background-color: #f0f8ff;}#sk-container-id-9 input.sk-toggleable__control:checked~div.sk-toggleable__content {max-height: 200px;max-width: 100%;overflow: auto;}#sk-container-id-9 input.sk-toggleable__control:checked~label.sk-toggleable__label-arrow:before {content: \"▾\";}#sk-container-id-9 div.sk-estimator input.sk-toggleable__control:checked~label.sk-toggleable__label {background-color: #d4ebff;}#sk-container-id-9 div.sk-label input.sk-toggleable__control:checked~label.sk-toggleable__label {background-color: #d4ebff;}#sk-container-id-9 input.sk-hidden--visually {border: 0;clip: rect(1px 1px 1px 1px);clip: rect(1px, 1px, 1px, 1px);height: 1px;margin: -1px;overflow: hidden;padding: 0;position: absolute;width: 1px;}#sk-container-id-9 div.sk-estimator {font-family: monospace;background-color: #f0f8ff;border: 1px dotted black;border-radius: 0.25em;box-sizing: border-box;margin-bottom: 0.5em;}#sk-container-id-9 div.sk-estimator:hover {background-color: #d4ebff;}#sk-container-id-9 div.sk-parallel-item::after {content: \"\";width: 100%;border-bottom: 1px solid gray;flex-grow: 1;}#sk-container-id-9 div.sk-label:hover label.sk-toggleable__label {background-color: #d4ebff;}#sk-container-id-9 div.sk-serial::before {content: \"\";position: absolute;border-left: 1px solid gray;box-sizing: border-box;top: 0;bottom: 0;left: 50%;z-index: 0;}#sk-container-id-9 div.sk-serial {display: flex;flex-direction: column;align-items: center;background-color: white;padding-right: 0.2em;padding-left: 0.2em;position: relative;}#sk-container-id-9 div.sk-item {position: relative;z-index: 1;}#sk-container-id-9 div.sk-parallel {display: flex;align-items: stretch;justify-content: center;background-color: white;position: relative;}#sk-container-id-9 div.sk-item::before, #sk-container-id-9 div.sk-parallel-item::before {content: \"\";position: absolute;border-left: 1px solid gray;box-sizing: border-box;top: 0;bottom: 0;left: 50%;z-index: -1;}#sk-container-id-9 div.sk-parallel-item {display: flex;flex-direction: column;z-index: 1;position: relative;background-color: white;}#sk-container-id-9 div.sk-parallel-item:first-child::after {align-self: flex-end;width: 50%;}#sk-container-id-9 div.sk-parallel-item:last-child::after {align-self: flex-start;width: 50%;}#sk-container-id-9 div.sk-parallel-item:only-child::after {width: 0;}#sk-container-id-9 div.sk-dashed-wrapped {border: 1px dashed gray;margin: 0 0.4em 0.5em 0.4em;box-sizing: border-box;padding-bottom: 0.4em;background-color: white;}#sk-container-id-9 div.sk-label label {font-family: monospace;font-weight: bold;display: inline-block;line-height: 1.2em;}#sk-container-id-9 div.sk-label-container {text-align: center;}#sk-container-id-9 div.sk-container {/* jupyter's `normalize.less` sets `[hidden] { display: none; }` but bootstrap.min.css set `[hidden] { display: none !important; }` so we also need the `!important` here to be able to override the default hidden behavior on the sphinx rendered scikit-learn.org. See: https://github.com/scikit-learn/scikit-learn/issues/21755 */display: inline-block !important;position: relative;}#sk-container-id-9 div.sk-text-repr-fallback {display: none;}</style><div id=\"sk-container-id-9\" class=\"sk-top-container\"><div class=\"sk-text-repr-fallback\"><pre>StandardScaler()</pre><b>In a Jupyter environment, please rerun this cell to show the HTML representation or trust the notebook. <br />On GitHub, the HTML representation is unable to render, please try loading this page with nbviewer.org.</b></div><div class=\"sk-container\" hidden><div class=\"sk-item\"><div class=\"sk-estimator sk-toggleable\"><input class=\"sk-toggleable__control sk-hidden--visually\" id=\"sk-estimator-id-9\" type=\"checkbox\" checked><label for=\"sk-estimator-id-9\" class=\"sk-toggleable__label sk-toggleable__label-arrow\">StandardScaler</label><div class=\"sk-toggleable__content\"><pre>StandardScaler()</pre></div></div></div></div></div>"
      ],
      "text/plain": [
       "StandardScaler()"
      ]
     },
     "execution_count": 109,
     "metadata": {},
     "output_type": "execute_result"
    }
   ],
   "source": [
    "scaler = StandardScaler()\n",
    "scaler.fit_transform(X_train_smote)\n",
    "scaler.fit(X_test)"
   ]
  },
  {
   "cell_type": "markdown",
   "id": "c61d8703-38f1-4f11-ba4d-f520196ecf66",
   "metadata": {},
   "source": [
    "#### PCA :"
   ]
  },
  {
   "cell_type": "code",
   "execution_count": 110,
   "id": "7e4ee784-3792-4182-b8c1-a605588bf744",
   "metadata": {},
   "outputs": [],
   "source": [
    "n_components = 5  # Chose the number of components by hit and trial based on the training and testing accuracy\n",
    "pca = PCA(n_components=n_components)\n",
    "X_train_pca = pca.fit_transform(X_train_smote)\n",
    "X_test_pca = pca.transform(X_test)"
   ]
  },
  {
   "cell_type": "code",
   "execution_count": 111,
   "id": "d0188689-cca4-4f7a-9455-51f64ceb0d83",
   "metadata": {},
   "outputs": [],
   "source": [
    "# Creating dataframes for testing and training evaluation metrics\n",
    "training_eval_df=pd.DataFrame(columns=['Model','Accuracy','Recall','Precision','F1-Score','AUC'])\n",
    "testing_eval_df=pd.DataFrame(columns=['Model','Accuracy','Recall','Precision','F1-Score','AUC'])"
   ]
  },
  {
   "cell_type": "markdown",
   "id": "9a008924-e8ca-4d21-86d8-4acb3d9bf170",
   "metadata": {},
   "source": [
    "#### Logistic Regression :"
   ]
  },
  {
   "cell_type": "code",
   "execution_count": 112,
   "id": "b28255d6-e489-474d-9f74-409cfe07345a",
   "metadata": {},
   "outputs": [
    {
     "data": {
      "text/html": [
       "<style>#sk-container-id-10 {color: black;}#sk-container-id-10 pre{padding: 0;}#sk-container-id-10 div.sk-toggleable {background-color: white;}#sk-container-id-10 label.sk-toggleable__label {cursor: pointer;display: block;width: 100%;margin-bottom: 0;padding: 0.3em;box-sizing: border-box;text-align: center;}#sk-container-id-10 label.sk-toggleable__label-arrow:before {content: \"▸\";float: left;margin-right: 0.25em;color: #696969;}#sk-container-id-10 label.sk-toggleable__label-arrow:hover:before {color: black;}#sk-container-id-10 div.sk-estimator:hover label.sk-toggleable__label-arrow:before {color: black;}#sk-container-id-10 div.sk-toggleable__content {max-height: 0;max-width: 0;overflow: hidden;text-align: left;background-color: #f0f8ff;}#sk-container-id-10 div.sk-toggleable__content pre {margin: 0.2em;color: black;border-radius: 0.25em;background-color: #f0f8ff;}#sk-container-id-10 input.sk-toggleable__control:checked~div.sk-toggleable__content {max-height: 200px;max-width: 100%;overflow: auto;}#sk-container-id-10 input.sk-toggleable__control:checked~label.sk-toggleable__label-arrow:before {content: \"▾\";}#sk-container-id-10 div.sk-estimator input.sk-toggleable__control:checked~label.sk-toggleable__label {background-color: #d4ebff;}#sk-container-id-10 div.sk-label input.sk-toggleable__control:checked~label.sk-toggleable__label {background-color: #d4ebff;}#sk-container-id-10 input.sk-hidden--visually {border: 0;clip: rect(1px 1px 1px 1px);clip: rect(1px, 1px, 1px, 1px);height: 1px;margin: -1px;overflow: hidden;padding: 0;position: absolute;width: 1px;}#sk-container-id-10 div.sk-estimator {font-family: monospace;background-color: #f0f8ff;border: 1px dotted black;border-radius: 0.25em;box-sizing: border-box;margin-bottom: 0.5em;}#sk-container-id-10 div.sk-estimator:hover {background-color: #d4ebff;}#sk-container-id-10 div.sk-parallel-item::after {content: \"\";width: 100%;border-bottom: 1px solid gray;flex-grow: 1;}#sk-container-id-10 div.sk-label:hover label.sk-toggleable__label {background-color: #d4ebff;}#sk-container-id-10 div.sk-serial::before {content: \"\";position: absolute;border-left: 1px solid gray;box-sizing: border-box;top: 0;bottom: 0;left: 50%;z-index: 0;}#sk-container-id-10 div.sk-serial {display: flex;flex-direction: column;align-items: center;background-color: white;padding-right: 0.2em;padding-left: 0.2em;position: relative;}#sk-container-id-10 div.sk-item {position: relative;z-index: 1;}#sk-container-id-10 div.sk-parallel {display: flex;align-items: stretch;justify-content: center;background-color: white;position: relative;}#sk-container-id-10 div.sk-item::before, #sk-container-id-10 div.sk-parallel-item::before {content: \"\";position: absolute;border-left: 1px solid gray;box-sizing: border-box;top: 0;bottom: 0;left: 50%;z-index: -1;}#sk-container-id-10 div.sk-parallel-item {display: flex;flex-direction: column;z-index: 1;position: relative;background-color: white;}#sk-container-id-10 div.sk-parallel-item:first-child::after {align-self: flex-end;width: 50%;}#sk-container-id-10 div.sk-parallel-item:last-child::after {align-self: flex-start;width: 50%;}#sk-container-id-10 div.sk-parallel-item:only-child::after {width: 0;}#sk-container-id-10 div.sk-dashed-wrapped {border: 1px dashed gray;margin: 0 0.4em 0.5em 0.4em;box-sizing: border-box;padding-bottom: 0.4em;background-color: white;}#sk-container-id-10 div.sk-label label {font-family: monospace;font-weight: bold;display: inline-block;line-height: 1.2em;}#sk-container-id-10 div.sk-label-container {text-align: center;}#sk-container-id-10 div.sk-container {/* jupyter's `normalize.less` sets `[hidden] { display: none; }` but bootstrap.min.css set `[hidden] { display: none !important; }` so we also need the `!important` here to be able to override the default hidden behavior on the sphinx rendered scikit-learn.org. See: https://github.com/scikit-learn/scikit-learn/issues/21755 */display: inline-block !important;position: relative;}#sk-container-id-10 div.sk-text-repr-fallback {display: none;}</style><div id=\"sk-container-id-10\" class=\"sk-top-container\"><div class=\"sk-text-repr-fallback\"><pre>LogisticRegression(max_iter=1000, random_state=42)</pre><b>In a Jupyter environment, please rerun this cell to show the HTML representation or trust the notebook. <br />On GitHub, the HTML representation is unable to render, please try loading this page with nbviewer.org.</b></div><div class=\"sk-container\" hidden><div class=\"sk-item\"><div class=\"sk-estimator sk-toggleable\"><input class=\"sk-toggleable__control sk-hidden--visually\" id=\"sk-estimator-id-10\" type=\"checkbox\" checked><label for=\"sk-estimator-id-10\" class=\"sk-toggleable__label sk-toggleable__label-arrow\">LogisticRegression</label><div class=\"sk-toggleable__content\"><pre>LogisticRegression(max_iter=1000, random_state=42)</pre></div></div></div></div></div>"
      ],
      "text/plain": [
       "LogisticRegression(max_iter=1000, random_state=42)"
      ]
     },
     "execution_count": 112,
     "metadata": {},
     "output_type": "execute_result"
    }
   ],
   "source": [
    "clf1=LogisticRegression(random_state=42,max_iter=1000)\n",
    "clf1.fit(X_train_pca, y_train_smote)"
   ]
  },
  {
   "cell_type": "code",
   "execution_count": 113,
   "id": "805c8941-79d4-4c95-9bcc-eca570ef6f8d",
   "metadata": {},
   "outputs": [],
   "source": [
    "# Training Evaluation\n",
    "y_train_pred = clf1.predict(X_train_pca)\n",
    "\n",
    "accuracy = accuracy_score(y_train_pred,y_train_smote)\n",
    "precision = precision_score(y_train_pred,y_train_smote)\n",
    "recall = recall_score(y_train_pred,y_train_smote)\n",
    "f1_score_value = f1_score(y_train_pred,y_train_smote)\n",
    "\n",
    "fpr, tpr, thresholds= roc_curve(y_train_pred,y_train_smote)\n",
    "auc_roc= auc(fpr, tpr)\n",
    "\n",
    "training_eval_df.loc[len(training_eval_df.index)] = ['Logistic Regression', accuracy, precision, recall, f1_score_value, auc_roc]  "
   ]
  },
  {
   "cell_type": "code",
   "execution_count": 114,
   "id": "9b531f3f-a335-4ac1-972f-197cc7b31302",
   "metadata": {},
   "outputs": [],
   "source": [
    "# Testing Evaluation\n",
    "y_test_pred = clf1.predict(X_test_pca)\n",
    "\n",
    "accuracy = accuracy_score(y_test_pred,y_test)\n",
    "precision = precision_score(y_test_pred,y_test)\n",
    "recall = recall_score(y_test_pred,y_test)\n",
    "f1_score_value = f1_score(y_test_pred,y_test)\n",
    "\n",
    "fpr, tpr, thresholds= roc_curve(y_test_pred,y_test)\n",
    "auc_roc= auc(fpr, tpr)\n",
    "\n",
    "testing_eval_df.loc[len(testing_eval_df.index)] = ['Logistic Regression', accuracy, precision, recall, f1_score_value, auc_roc]  "
   ]
  },
  {
   "cell_type": "markdown",
   "id": "91b75e15-b081-4bed-a16a-91f87c168313",
   "metadata": {},
   "source": [
    "#### KNN : "
   ]
  },
  {
   "cell_type": "code",
   "execution_count": 115,
   "id": "f44b0452-cb14-441f-bb23-6105b04a8574",
   "metadata": {
    "scrolled": true
   },
   "outputs": [
    {
     "name": "stdout",
     "output_type": "stream",
     "text": [
      "2 : [0.7791563275434243, 0.4797979797979798]\n",
      "3 : [0.7667493796526055, 0.4797979797979798]\n",
      "4 : [0.6972704714640199, 0.4898989898989899]\n",
      "5 : [0.728287841191067, 0.4898989898989899]\n",
      "6 : [0.6960297766749379, 0.46464646464646464]\n",
      "7 : [0.6985111662531017, 0.47474747474747475]\n",
      "8 : [0.6699751861042184, 0.4898989898989899]\n",
      "9 : [0.6625310173697271, 0.5050505050505051]\n",
      "10 : [0.6439205955334988, 0.5404040404040404]\n",
      "11 : [0.6513647642679901, 0.5202020202020202]\n",
      "12 : [0.6377171215880894, 0.494949494949495]\n",
      "13 : [0.6575682382133995, 0.51010101010101]\n",
      "14 : [0.6513647642679901, 0.45454545454545453]\n",
      "15 : [0.6426799007444168, 0.4595959595959596]\n",
      "16 : [0.6327543424317618, 0.4595959595959596]\n",
      "17 : [0.6290322580645161, 0.4595959595959596]\n",
      "18 : [0.6290322580645161, 0.4595959595959596]\n",
      "19 : [0.6129032258064516, 0.4797979797979798]\n",
      "20 : [0.6004962779156328, 0.5]\n"
     ]
    }
   ],
   "source": [
    "# Choosing the value of K\n",
    "K = [] \n",
    "training = [] \n",
    "test = [] \n",
    "scores = {} \n",
    "  \n",
    "for k in range(2, 21): \n",
    "    clf2 = KNeighborsClassifier(n_neighbors = k) \n",
    "    clf2.fit(X_train_pca, y_train_smote) \n",
    "  \n",
    "    training_score = clf2.score(X_train_pca, y_train_smote) \n",
    "    test_score = clf2.score(X_test_pca, y_test) \n",
    "    K.append(k) \n",
    "  \n",
    "    training.append(training_score) \n",
    "    test.append(test_score) \n",
    "    scores[k] = [training_score, test_score] \n",
    "    \n",
    "for keys, values in scores.items(): \n",
    "    print(keys, ':', values) "
   ]
  },
  {
   "cell_type": "code",
   "execution_count": 116,
   "id": "d90a42b0-9a49-4699-9bc8-b4a94b9177bc",
   "metadata": {},
   "outputs": [
    {
     "data": {
      "text/html": [
       "<style>#sk-container-id-11 {color: black;}#sk-container-id-11 pre{padding: 0;}#sk-container-id-11 div.sk-toggleable {background-color: white;}#sk-container-id-11 label.sk-toggleable__label {cursor: pointer;display: block;width: 100%;margin-bottom: 0;padding: 0.3em;box-sizing: border-box;text-align: center;}#sk-container-id-11 label.sk-toggleable__label-arrow:before {content: \"▸\";float: left;margin-right: 0.25em;color: #696969;}#sk-container-id-11 label.sk-toggleable__label-arrow:hover:before {color: black;}#sk-container-id-11 div.sk-estimator:hover label.sk-toggleable__label-arrow:before {color: black;}#sk-container-id-11 div.sk-toggleable__content {max-height: 0;max-width: 0;overflow: hidden;text-align: left;background-color: #f0f8ff;}#sk-container-id-11 div.sk-toggleable__content pre {margin: 0.2em;color: black;border-radius: 0.25em;background-color: #f0f8ff;}#sk-container-id-11 input.sk-toggleable__control:checked~div.sk-toggleable__content {max-height: 200px;max-width: 100%;overflow: auto;}#sk-container-id-11 input.sk-toggleable__control:checked~label.sk-toggleable__label-arrow:before {content: \"▾\";}#sk-container-id-11 div.sk-estimator input.sk-toggleable__control:checked~label.sk-toggleable__label {background-color: #d4ebff;}#sk-container-id-11 div.sk-label input.sk-toggleable__control:checked~label.sk-toggleable__label {background-color: #d4ebff;}#sk-container-id-11 input.sk-hidden--visually {border: 0;clip: rect(1px 1px 1px 1px);clip: rect(1px, 1px, 1px, 1px);height: 1px;margin: -1px;overflow: hidden;padding: 0;position: absolute;width: 1px;}#sk-container-id-11 div.sk-estimator {font-family: monospace;background-color: #f0f8ff;border: 1px dotted black;border-radius: 0.25em;box-sizing: border-box;margin-bottom: 0.5em;}#sk-container-id-11 div.sk-estimator:hover {background-color: #d4ebff;}#sk-container-id-11 div.sk-parallel-item::after {content: \"\";width: 100%;border-bottom: 1px solid gray;flex-grow: 1;}#sk-container-id-11 div.sk-label:hover label.sk-toggleable__label {background-color: #d4ebff;}#sk-container-id-11 div.sk-serial::before {content: \"\";position: absolute;border-left: 1px solid gray;box-sizing: border-box;top: 0;bottom: 0;left: 50%;z-index: 0;}#sk-container-id-11 div.sk-serial {display: flex;flex-direction: column;align-items: center;background-color: white;padding-right: 0.2em;padding-left: 0.2em;position: relative;}#sk-container-id-11 div.sk-item {position: relative;z-index: 1;}#sk-container-id-11 div.sk-parallel {display: flex;align-items: stretch;justify-content: center;background-color: white;position: relative;}#sk-container-id-11 div.sk-item::before, #sk-container-id-11 div.sk-parallel-item::before {content: \"\";position: absolute;border-left: 1px solid gray;box-sizing: border-box;top: 0;bottom: 0;left: 50%;z-index: -1;}#sk-container-id-11 div.sk-parallel-item {display: flex;flex-direction: column;z-index: 1;position: relative;background-color: white;}#sk-container-id-11 div.sk-parallel-item:first-child::after {align-self: flex-end;width: 50%;}#sk-container-id-11 div.sk-parallel-item:last-child::after {align-self: flex-start;width: 50%;}#sk-container-id-11 div.sk-parallel-item:only-child::after {width: 0;}#sk-container-id-11 div.sk-dashed-wrapped {border: 1px dashed gray;margin: 0 0.4em 0.5em 0.4em;box-sizing: border-box;padding-bottom: 0.4em;background-color: white;}#sk-container-id-11 div.sk-label label {font-family: monospace;font-weight: bold;display: inline-block;line-height: 1.2em;}#sk-container-id-11 div.sk-label-container {text-align: center;}#sk-container-id-11 div.sk-container {/* jupyter's `normalize.less` sets `[hidden] { display: none; }` but bootstrap.min.css set `[hidden] { display: none !important; }` so we also need the `!important` here to be able to override the default hidden behavior on the sphinx rendered scikit-learn.org. See: https://github.com/scikit-learn/scikit-learn/issues/21755 */display: inline-block !important;position: relative;}#sk-container-id-11 div.sk-text-repr-fallback {display: none;}</style><div id=\"sk-container-id-11\" class=\"sk-top-container\"><div class=\"sk-text-repr-fallback\"><pre>KNeighborsClassifier(n_neighbors=10)</pre><b>In a Jupyter environment, please rerun this cell to show the HTML representation or trust the notebook. <br />On GitHub, the HTML representation is unable to render, please try loading this page with nbviewer.org.</b></div><div class=\"sk-container\" hidden><div class=\"sk-item\"><div class=\"sk-estimator sk-toggleable\"><input class=\"sk-toggleable__control sk-hidden--visually\" id=\"sk-estimator-id-11\" type=\"checkbox\" checked><label for=\"sk-estimator-id-11\" class=\"sk-toggleable__label sk-toggleable__label-arrow\">KNeighborsClassifier</label><div class=\"sk-toggleable__content\"><pre>KNeighborsClassifier(n_neighbors=10)</pre></div></div></div></div></div>"
      ],
      "text/plain": [
       "KNeighborsClassifier(n_neighbors=10)"
      ]
     },
     "execution_count": 116,
     "metadata": {},
     "output_type": "execute_result"
    }
   ],
   "source": [
    "clf2 = KNeighborsClassifier(n_neighbors = 10) #Choosing k=10, as the training and testing scores are good.\n",
    "clf2.fit(X_train_pca, y_train_smote)"
   ]
  },
  {
   "cell_type": "code",
   "execution_count": 117,
   "id": "79451bc1-edb9-4a06-ad4c-3cd16602b4a4",
   "metadata": {},
   "outputs": [],
   "source": [
    "# Training Evaluation\n",
    "y_train_pred = clf2.predict(X_train_pca)\n",
    "\n",
    "accuracy = accuracy_score(y_train_pred,y_train_smote)\n",
    "precision = precision_score(y_train_pred,y_train_smote)\n",
    "recall = recall_score(y_train_pred,y_train_smote)\n",
    "f1_score_value = f1_score(y_train_pred,y_train_smote)\n",
    "\n",
    "fpr, tpr, thresholds= roc_curve(y_train_pred,y_train_smote)\n",
    "auc_roc= auc(fpr, tpr)\n",
    "\n",
    "training_eval_df.loc[len(training_eval_df.index)] = ['KNN', accuracy, precision, recall, f1_score_value, auc_roc] "
   ]
  },
  {
   "cell_type": "code",
   "execution_count": 118,
   "id": "0be74c2a-7a1b-46c2-a032-f9cfc070acf9",
   "metadata": {},
   "outputs": [],
   "source": [
    "# Testing Evaluation\n",
    "y_test_pred = clf2.predict(X_test_pca)\n",
    "\n",
    "accuracy = accuracy_score(y_test_pred,y_test)\n",
    "precision = precision_score(y_test_pred,y_test)\n",
    "recall = recall_score(y_test_pred,y_test)\n",
    "f1_score_value = f1_score(y_test_pred,y_test)\n",
    "\n",
    "fpr, tpr, thresholds= roc_curve(y_test_pred,y_test)\n",
    "auc_roc= auc(fpr, tpr)\n",
    "\n",
    "testing_eval_df.loc[len(testing_eval_df.index)] = ['KNN', accuracy, precision, recall, f1_score_value, auc_roc]"
   ]
  },
  {
   "cell_type": "markdown",
   "id": "15527c9e-05d3-495b-a725-4c7878baa8eb",
   "metadata": {},
   "source": [
    "#### SVM :"
   ]
  },
  {
   "cell_type": "code",
   "execution_count": 119,
   "id": "6d421258-22d0-4645-8fad-b80d828167d0",
   "metadata": {},
   "outputs": [
    {
     "data": {
      "text/html": [
       "<style>#sk-container-id-12 {color: black;}#sk-container-id-12 pre{padding: 0;}#sk-container-id-12 div.sk-toggleable {background-color: white;}#sk-container-id-12 label.sk-toggleable__label {cursor: pointer;display: block;width: 100%;margin-bottom: 0;padding: 0.3em;box-sizing: border-box;text-align: center;}#sk-container-id-12 label.sk-toggleable__label-arrow:before {content: \"▸\";float: left;margin-right: 0.25em;color: #696969;}#sk-container-id-12 label.sk-toggleable__label-arrow:hover:before {color: black;}#sk-container-id-12 div.sk-estimator:hover label.sk-toggleable__label-arrow:before {color: black;}#sk-container-id-12 div.sk-toggleable__content {max-height: 0;max-width: 0;overflow: hidden;text-align: left;background-color: #f0f8ff;}#sk-container-id-12 div.sk-toggleable__content pre {margin: 0.2em;color: black;border-radius: 0.25em;background-color: #f0f8ff;}#sk-container-id-12 input.sk-toggleable__control:checked~div.sk-toggleable__content {max-height: 200px;max-width: 100%;overflow: auto;}#sk-container-id-12 input.sk-toggleable__control:checked~label.sk-toggleable__label-arrow:before {content: \"▾\";}#sk-container-id-12 div.sk-estimator input.sk-toggleable__control:checked~label.sk-toggleable__label {background-color: #d4ebff;}#sk-container-id-12 div.sk-label input.sk-toggleable__control:checked~label.sk-toggleable__label {background-color: #d4ebff;}#sk-container-id-12 input.sk-hidden--visually {border: 0;clip: rect(1px 1px 1px 1px);clip: rect(1px, 1px, 1px, 1px);height: 1px;margin: -1px;overflow: hidden;padding: 0;position: absolute;width: 1px;}#sk-container-id-12 div.sk-estimator {font-family: monospace;background-color: #f0f8ff;border: 1px dotted black;border-radius: 0.25em;box-sizing: border-box;margin-bottom: 0.5em;}#sk-container-id-12 div.sk-estimator:hover {background-color: #d4ebff;}#sk-container-id-12 div.sk-parallel-item::after {content: \"\";width: 100%;border-bottom: 1px solid gray;flex-grow: 1;}#sk-container-id-12 div.sk-label:hover label.sk-toggleable__label {background-color: #d4ebff;}#sk-container-id-12 div.sk-serial::before {content: \"\";position: absolute;border-left: 1px solid gray;box-sizing: border-box;top: 0;bottom: 0;left: 50%;z-index: 0;}#sk-container-id-12 div.sk-serial {display: flex;flex-direction: column;align-items: center;background-color: white;padding-right: 0.2em;padding-left: 0.2em;position: relative;}#sk-container-id-12 div.sk-item {position: relative;z-index: 1;}#sk-container-id-12 div.sk-parallel {display: flex;align-items: stretch;justify-content: center;background-color: white;position: relative;}#sk-container-id-12 div.sk-item::before, #sk-container-id-12 div.sk-parallel-item::before {content: \"\";position: absolute;border-left: 1px solid gray;box-sizing: border-box;top: 0;bottom: 0;left: 50%;z-index: -1;}#sk-container-id-12 div.sk-parallel-item {display: flex;flex-direction: column;z-index: 1;position: relative;background-color: white;}#sk-container-id-12 div.sk-parallel-item:first-child::after {align-self: flex-end;width: 50%;}#sk-container-id-12 div.sk-parallel-item:last-child::after {align-self: flex-start;width: 50%;}#sk-container-id-12 div.sk-parallel-item:only-child::after {width: 0;}#sk-container-id-12 div.sk-dashed-wrapped {border: 1px dashed gray;margin: 0 0.4em 0.5em 0.4em;box-sizing: border-box;padding-bottom: 0.4em;background-color: white;}#sk-container-id-12 div.sk-label label {font-family: monospace;font-weight: bold;display: inline-block;line-height: 1.2em;}#sk-container-id-12 div.sk-label-container {text-align: center;}#sk-container-id-12 div.sk-container {/* jupyter's `normalize.less` sets `[hidden] { display: none; }` but bootstrap.min.css set `[hidden] { display: none !important; }` so we also need the `!important` here to be able to override the default hidden behavior on the sphinx rendered scikit-learn.org. See: https://github.com/scikit-learn/scikit-learn/issues/21755 */display: inline-block !important;position: relative;}#sk-container-id-12 div.sk-text-repr-fallback {display: none;}</style><div id=\"sk-container-id-12\" class=\"sk-top-container\"><div class=\"sk-text-repr-fallback\"><pre>SVC(random_state=0)</pre><b>In a Jupyter environment, please rerun this cell to show the HTML representation or trust the notebook. <br />On GitHub, the HTML representation is unable to render, please try loading this page with nbviewer.org.</b></div><div class=\"sk-container\" hidden><div class=\"sk-item\"><div class=\"sk-estimator sk-toggleable\"><input class=\"sk-toggleable__control sk-hidden--visually\" id=\"sk-estimator-id-12\" type=\"checkbox\" checked><label for=\"sk-estimator-id-12\" class=\"sk-toggleable__label sk-toggleable__label-arrow\">SVC</label><div class=\"sk-toggleable__content\"><pre>SVC(random_state=0)</pre></div></div></div></div></div>"
      ],
      "text/plain": [
       "SVC(random_state=0)"
      ]
     },
     "execution_count": 119,
     "metadata": {},
     "output_type": "execute_result"
    }
   ],
   "source": [
    "clf3=SVC(random_state=0)\n",
    "clf3.fit(X_train_pca,y_train_smote)"
   ]
  },
  {
   "cell_type": "code",
   "execution_count": 120,
   "id": "3dc9ee67-c05d-456d-a888-52a237efb542",
   "metadata": {},
   "outputs": [],
   "source": [
    "# Training Evaluation\n",
    "y_train_pred = clf3.predict(X_train_pca)\n",
    "\n",
    "accuracy = accuracy_score(y_train_pred,y_train_smote)\n",
    "precision = precision_score(y_train_pred,y_train_smote)\n",
    "recall = recall_score(y_train_pred,y_train_smote)\n",
    "f1_score_value = f1_score(y_train_pred,y_train_smote)\n",
    "\n",
    "fpr, tpr, thresholds= roc_curve(y_train_pred,y_train_smote)\n",
    "auc_roc= auc(fpr, tpr)\n",
    "\n",
    "training_eval_df.loc[len(training_eval_df.index)] = ['SVC', accuracy, precision, recall, f1_score_value, auc_roc] "
   ]
  },
  {
   "cell_type": "code",
   "execution_count": 121,
   "id": "0650af4d-80e9-467c-9cf1-3d4e03417c0c",
   "metadata": {},
   "outputs": [],
   "source": [
    "# Testing Evaluation\n",
    "y_test_pred = clf3.predict(X_test_pca)\n",
    "\n",
    "accuracy = accuracy_score(y_test_pred,y_test)\n",
    "precision = precision_score(y_test_pred,y_test)\n",
    "recall = recall_score(y_test_pred,y_test)\n",
    "f1_score_value = f1_score(y_test_pred,y_test)\n",
    "\n",
    "fpr, tpr, thresholds= roc_curve(y_test_pred,y_test)\n",
    "auc_roc= auc(fpr, tpr)\n",
    "\n",
    "testing_eval_df.loc[len(testing_eval_df.index)] = ['SVC', accuracy, precision, recall, f1_score_value, auc_roc]"
   ]
  },
  {
   "cell_type": "markdown",
   "id": "73bb93e2-57a3-4a69-bcb4-5ae69e82d647",
   "metadata": {},
   "source": [
    "#### Random Forest Classifier :"
   ]
  },
  {
   "cell_type": "code",
   "execution_count": 122,
   "id": "20142542-4707-4fe0-bae0-8e52803df6b4",
   "metadata": {},
   "outputs": [
    {
     "data": {
      "text/html": [
       "<style>#sk-container-id-13 {color: black;}#sk-container-id-13 pre{padding: 0;}#sk-container-id-13 div.sk-toggleable {background-color: white;}#sk-container-id-13 label.sk-toggleable__label {cursor: pointer;display: block;width: 100%;margin-bottom: 0;padding: 0.3em;box-sizing: border-box;text-align: center;}#sk-container-id-13 label.sk-toggleable__label-arrow:before {content: \"▸\";float: left;margin-right: 0.25em;color: #696969;}#sk-container-id-13 label.sk-toggleable__label-arrow:hover:before {color: black;}#sk-container-id-13 div.sk-estimator:hover label.sk-toggleable__label-arrow:before {color: black;}#sk-container-id-13 div.sk-toggleable__content {max-height: 0;max-width: 0;overflow: hidden;text-align: left;background-color: #f0f8ff;}#sk-container-id-13 div.sk-toggleable__content pre {margin: 0.2em;color: black;border-radius: 0.25em;background-color: #f0f8ff;}#sk-container-id-13 input.sk-toggleable__control:checked~div.sk-toggleable__content {max-height: 200px;max-width: 100%;overflow: auto;}#sk-container-id-13 input.sk-toggleable__control:checked~label.sk-toggleable__label-arrow:before {content: \"▾\";}#sk-container-id-13 div.sk-estimator input.sk-toggleable__control:checked~label.sk-toggleable__label {background-color: #d4ebff;}#sk-container-id-13 div.sk-label input.sk-toggleable__control:checked~label.sk-toggleable__label {background-color: #d4ebff;}#sk-container-id-13 input.sk-hidden--visually {border: 0;clip: rect(1px 1px 1px 1px);clip: rect(1px, 1px, 1px, 1px);height: 1px;margin: -1px;overflow: hidden;padding: 0;position: absolute;width: 1px;}#sk-container-id-13 div.sk-estimator {font-family: monospace;background-color: #f0f8ff;border: 1px dotted black;border-radius: 0.25em;box-sizing: border-box;margin-bottom: 0.5em;}#sk-container-id-13 div.sk-estimator:hover {background-color: #d4ebff;}#sk-container-id-13 div.sk-parallel-item::after {content: \"\";width: 100%;border-bottom: 1px solid gray;flex-grow: 1;}#sk-container-id-13 div.sk-label:hover label.sk-toggleable__label {background-color: #d4ebff;}#sk-container-id-13 div.sk-serial::before {content: \"\";position: absolute;border-left: 1px solid gray;box-sizing: border-box;top: 0;bottom: 0;left: 50%;z-index: 0;}#sk-container-id-13 div.sk-serial {display: flex;flex-direction: column;align-items: center;background-color: white;padding-right: 0.2em;padding-left: 0.2em;position: relative;}#sk-container-id-13 div.sk-item {position: relative;z-index: 1;}#sk-container-id-13 div.sk-parallel {display: flex;align-items: stretch;justify-content: center;background-color: white;position: relative;}#sk-container-id-13 div.sk-item::before, #sk-container-id-13 div.sk-parallel-item::before {content: \"\";position: absolute;border-left: 1px solid gray;box-sizing: border-box;top: 0;bottom: 0;left: 50%;z-index: -1;}#sk-container-id-13 div.sk-parallel-item {display: flex;flex-direction: column;z-index: 1;position: relative;background-color: white;}#sk-container-id-13 div.sk-parallel-item:first-child::after {align-self: flex-end;width: 50%;}#sk-container-id-13 div.sk-parallel-item:last-child::after {align-self: flex-start;width: 50%;}#sk-container-id-13 div.sk-parallel-item:only-child::after {width: 0;}#sk-container-id-13 div.sk-dashed-wrapped {border: 1px dashed gray;margin: 0 0.4em 0.5em 0.4em;box-sizing: border-box;padding-bottom: 0.4em;background-color: white;}#sk-container-id-13 div.sk-label label {font-family: monospace;font-weight: bold;display: inline-block;line-height: 1.2em;}#sk-container-id-13 div.sk-label-container {text-align: center;}#sk-container-id-13 div.sk-container {/* jupyter's `normalize.less` sets `[hidden] { display: none; }` but bootstrap.min.css set `[hidden] { display: none !important; }` so we also need the `!important` here to be able to override the default hidden behavior on the sphinx rendered scikit-learn.org. See: https://github.com/scikit-learn/scikit-learn/issues/21755 */display: inline-block !important;position: relative;}#sk-container-id-13 div.sk-text-repr-fallback {display: none;}</style><div id=\"sk-container-id-13\" class=\"sk-top-container\"><div class=\"sk-text-repr-fallback\"><pre>RandomForestClassifier()</pre><b>In a Jupyter environment, please rerun this cell to show the HTML representation or trust the notebook. <br />On GitHub, the HTML representation is unable to render, please try loading this page with nbviewer.org.</b></div><div class=\"sk-container\" hidden><div class=\"sk-item\"><div class=\"sk-estimator sk-toggleable\"><input class=\"sk-toggleable__control sk-hidden--visually\" id=\"sk-estimator-id-13\" type=\"checkbox\" checked><label for=\"sk-estimator-id-13\" class=\"sk-toggleable__label sk-toggleable__label-arrow\">RandomForestClassifier</label><div class=\"sk-toggleable__content\"><pre>RandomForestClassifier()</pre></div></div></div></div></div>"
      ],
      "text/plain": [
       "RandomForestClassifier()"
      ]
     },
     "execution_count": 122,
     "metadata": {},
     "output_type": "execute_result"
    }
   ],
   "source": [
    "clf4 = RandomForestClassifier(n_estimators=100)\n",
    "clf4.fit(X_train_pca, y_train_smote)"
   ]
  },
  {
   "cell_type": "code",
   "execution_count": 123,
   "id": "2ebf2673-7377-4990-9bc7-98eee92455be",
   "metadata": {},
   "outputs": [],
   "source": [
    "# Training Evaluation\n",
    "y_train_pred = clf4.predict(X_train_pca)\n",
    "\n",
    "accuracy = accuracy_score(y_train_pred,y_train_smote)\n",
    "precision = precision_score(y_train_pred,y_train_smote)\n",
    "recall = recall_score(y_train_pred,y_train_smote)\n",
    "f1_score_value = f1_score(y_train_pred,y_train_smote)\n",
    "\n",
    "fpr, tpr, thresholds= roc_curve(y_train_pred,y_train_smote)\n",
    "auc_roc= auc(fpr, tpr)\n",
    "\n",
    "training_eval_df.loc[len(training_eval_df.index)] = ['Random Forest', accuracy, precision, recall, f1_score_value, auc_roc] "
   ]
  },
  {
   "cell_type": "code",
   "execution_count": 124,
   "id": "91b5a64c-5246-47ec-ae0a-986cb28b6ff0",
   "metadata": {},
   "outputs": [],
   "source": [
    "# Testing Evaluation\n",
    "y_test_pred = clf4.predict(X_test_pca)\n",
    "\n",
    "accuracy = accuracy_score(y_test_pred,y_test)\n",
    "precision = precision_score(y_test_pred,y_test)\n",
    "recall = recall_score(y_test_pred,y_test)\n",
    "f1_score_value = f1_score(y_test_pred,y_test)\n",
    "\n",
    "fpr, tpr, thresholds= roc_curve(y_test_pred,y_test)\n",
    "auc_roc= auc(fpr, tpr)\n",
    "\n",
    "testing_eval_df.loc[len(testing_eval_df.index)] = ['Random Forest', accuracy, precision, recall, f1_score_value, auc_roc]"
   ]
  },
  {
   "cell_type": "markdown",
   "id": "973debfa-5b16-4c14-b8dc-947bf69c8cfc",
   "metadata": {},
   "source": [
    "#### Ada Boosting :"
   ]
  },
  {
   "cell_type": "code",
   "execution_count": 125,
   "id": "b3d7cf54-ad3d-42ec-9e24-5a337743f9a0",
   "metadata": {},
   "outputs": [
    {
     "data": {
      "text/html": [
       "<style>#sk-container-id-14 {color: black;}#sk-container-id-14 pre{padding: 0;}#sk-container-id-14 div.sk-toggleable {background-color: white;}#sk-container-id-14 label.sk-toggleable__label {cursor: pointer;display: block;width: 100%;margin-bottom: 0;padding: 0.3em;box-sizing: border-box;text-align: center;}#sk-container-id-14 label.sk-toggleable__label-arrow:before {content: \"▸\";float: left;margin-right: 0.25em;color: #696969;}#sk-container-id-14 label.sk-toggleable__label-arrow:hover:before {color: black;}#sk-container-id-14 div.sk-estimator:hover label.sk-toggleable__label-arrow:before {color: black;}#sk-container-id-14 div.sk-toggleable__content {max-height: 0;max-width: 0;overflow: hidden;text-align: left;background-color: #f0f8ff;}#sk-container-id-14 div.sk-toggleable__content pre {margin: 0.2em;color: black;border-radius: 0.25em;background-color: #f0f8ff;}#sk-container-id-14 input.sk-toggleable__control:checked~div.sk-toggleable__content {max-height: 200px;max-width: 100%;overflow: auto;}#sk-container-id-14 input.sk-toggleable__control:checked~label.sk-toggleable__label-arrow:before {content: \"▾\";}#sk-container-id-14 div.sk-estimator input.sk-toggleable__control:checked~label.sk-toggleable__label {background-color: #d4ebff;}#sk-container-id-14 div.sk-label input.sk-toggleable__control:checked~label.sk-toggleable__label {background-color: #d4ebff;}#sk-container-id-14 input.sk-hidden--visually {border: 0;clip: rect(1px 1px 1px 1px);clip: rect(1px, 1px, 1px, 1px);height: 1px;margin: -1px;overflow: hidden;padding: 0;position: absolute;width: 1px;}#sk-container-id-14 div.sk-estimator {font-family: monospace;background-color: #f0f8ff;border: 1px dotted black;border-radius: 0.25em;box-sizing: border-box;margin-bottom: 0.5em;}#sk-container-id-14 div.sk-estimator:hover {background-color: #d4ebff;}#sk-container-id-14 div.sk-parallel-item::after {content: \"\";width: 100%;border-bottom: 1px solid gray;flex-grow: 1;}#sk-container-id-14 div.sk-label:hover label.sk-toggleable__label {background-color: #d4ebff;}#sk-container-id-14 div.sk-serial::before {content: \"\";position: absolute;border-left: 1px solid gray;box-sizing: border-box;top: 0;bottom: 0;left: 50%;z-index: 0;}#sk-container-id-14 div.sk-serial {display: flex;flex-direction: column;align-items: center;background-color: white;padding-right: 0.2em;padding-left: 0.2em;position: relative;}#sk-container-id-14 div.sk-item {position: relative;z-index: 1;}#sk-container-id-14 div.sk-parallel {display: flex;align-items: stretch;justify-content: center;background-color: white;position: relative;}#sk-container-id-14 div.sk-item::before, #sk-container-id-14 div.sk-parallel-item::before {content: \"\";position: absolute;border-left: 1px solid gray;box-sizing: border-box;top: 0;bottom: 0;left: 50%;z-index: -1;}#sk-container-id-14 div.sk-parallel-item {display: flex;flex-direction: column;z-index: 1;position: relative;background-color: white;}#sk-container-id-14 div.sk-parallel-item:first-child::after {align-self: flex-end;width: 50%;}#sk-container-id-14 div.sk-parallel-item:last-child::after {align-self: flex-start;width: 50%;}#sk-container-id-14 div.sk-parallel-item:only-child::after {width: 0;}#sk-container-id-14 div.sk-dashed-wrapped {border: 1px dashed gray;margin: 0 0.4em 0.5em 0.4em;box-sizing: border-box;padding-bottom: 0.4em;background-color: white;}#sk-container-id-14 div.sk-label label {font-family: monospace;font-weight: bold;display: inline-block;line-height: 1.2em;}#sk-container-id-14 div.sk-label-container {text-align: center;}#sk-container-id-14 div.sk-container {/* jupyter's `normalize.less` sets `[hidden] { display: none; }` but bootstrap.min.css set `[hidden] { display: none !important; }` so we also need the `!important` here to be able to override the default hidden behavior on the sphinx rendered scikit-learn.org. See: https://github.com/scikit-learn/scikit-learn/issues/21755 */display: inline-block !important;position: relative;}#sk-container-id-14 div.sk-text-repr-fallback {display: none;}</style><div id=\"sk-container-id-14\" class=\"sk-top-container\"><div class=\"sk-text-repr-fallback\"><pre>AdaBoostClassifier()</pre><b>In a Jupyter environment, please rerun this cell to show the HTML representation or trust the notebook. <br />On GitHub, the HTML representation is unable to render, please try loading this page with nbviewer.org.</b></div><div class=\"sk-container\" hidden><div class=\"sk-item\"><div class=\"sk-estimator sk-toggleable\"><input class=\"sk-toggleable__control sk-hidden--visually\" id=\"sk-estimator-id-14\" type=\"checkbox\" checked><label for=\"sk-estimator-id-14\" class=\"sk-toggleable__label sk-toggleable__label-arrow\">AdaBoostClassifier</label><div class=\"sk-toggleable__content\"><pre>AdaBoostClassifier()</pre></div></div></div></div></div>"
      ],
      "text/plain": [
       "AdaBoostClassifier()"
      ]
     },
     "execution_count": 125,
     "metadata": {},
     "output_type": "execute_result"
    }
   ],
   "source": [
    "clf5 = AdaBoostClassifier()\n",
    "clf5.fit(X_train_pca,y_train_smote)"
   ]
  },
  {
   "cell_type": "code",
   "execution_count": 126,
   "id": "ecf1f589-d2eb-4524-a856-56a53ed304d8",
   "metadata": {},
   "outputs": [],
   "source": [
    "# Training Evaluation\n",
    "y_train_pred = clf5.predict(X_train_pca)\n",
    "\n",
    "accuracy = accuracy_score(y_train_pred,y_train_smote)\n",
    "precision = precision_score(y_train_pred,y_train_smote)\n",
    "recall = recall_score(y_train_pred,y_train_smote)\n",
    "f1_score_value = f1_score(y_train_pred,y_train_smote)\n",
    "\n",
    "fpr, tpr, thresholds= roc_curve(y_train_pred,y_train_smote)\n",
    "auc_roc= auc(fpr, tpr)\n",
    "\n",
    "training_eval_df.loc[len(training_eval_df.index)] = ['Ada Boosting', accuracy, precision, recall, f1_score_value, auc_roc] "
   ]
  },
  {
   "cell_type": "code",
   "execution_count": 127,
   "id": "64eac2f7-7bfb-4989-b2e3-f16f9f3c2e57",
   "metadata": {},
   "outputs": [],
   "source": [
    "# Testing Evaluation\n",
    "y_test_pred = clf5.predict(X_test_pca)\n",
    "\n",
    "accuracy = accuracy_score(y_test_pred,y_test)\n",
    "precision = precision_score(y_test_pred,y_test)\n",
    "recall = recall_score(y_test_pred,y_test)\n",
    "f1_score_value = f1_score(y_test_pred,y_test)\n",
    "\n",
    "fpr, tpr, thresholds= roc_curve(y_test_pred,y_test)\n",
    "auc_roc= auc(fpr, tpr)\n",
    "\n",
    "testing_eval_df.loc[len(testing_eval_df.index)] = ['Ada Boosting', accuracy, precision, recall, f1_score_value, auc_roc]"
   ]
  },
  {
   "cell_type": "markdown",
   "id": "73e061b8-572b-498a-b1ff-4cf9d3edbc50",
   "metadata": {},
   "source": [
    "#### Gradient Boosting :"
   ]
  },
  {
   "cell_type": "code",
   "execution_count": 128,
   "id": "ad777aaa-fa40-4b15-85af-5fc2d65465a7",
   "metadata": {},
   "outputs": [
    {
     "data": {
      "text/html": [
       "<style>#sk-container-id-15 {color: black;}#sk-container-id-15 pre{padding: 0;}#sk-container-id-15 div.sk-toggleable {background-color: white;}#sk-container-id-15 label.sk-toggleable__label {cursor: pointer;display: block;width: 100%;margin-bottom: 0;padding: 0.3em;box-sizing: border-box;text-align: center;}#sk-container-id-15 label.sk-toggleable__label-arrow:before {content: \"▸\";float: left;margin-right: 0.25em;color: #696969;}#sk-container-id-15 label.sk-toggleable__label-arrow:hover:before {color: black;}#sk-container-id-15 div.sk-estimator:hover label.sk-toggleable__label-arrow:before {color: black;}#sk-container-id-15 div.sk-toggleable__content {max-height: 0;max-width: 0;overflow: hidden;text-align: left;background-color: #f0f8ff;}#sk-container-id-15 div.sk-toggleable__content pre {margin: 0.2em;color: black;border-radius: 0.25em;background-color: #f0f8ff;}#sk-container-id-15 input.sk-toggleable__control:checked~div.sk-toggleable__content {max-height: 200px;max-width: 100%;overflow: auto;}#sk-container-id-15 input.sk-toggleable__control:checked~label.sk-toggleable__label-arrow:before {content: \"▾\";}#sk-container-id-15 div.sk-estimator input.sk-toggleable__control:checked~label.sk-toggleable__label {background-color: #d4ebff;}#sk-container-id-15 div.sk-label input.sk-toggleable__control:checked~label.sk-toggleable__label {background-color: #d4ebff;}#sk-container-id-15 input.sk-hidden--visually {border: 0;clip: rect(1px 1px 1px 1px);clip: rect(1px, 1px, 1px, 1px);height: 1px;margin: -1px;overflow: hidden;padding: 0;position: absolute;width: 1px;}#sk-container-id-15 div.sk-estimator {font-family: monospace;background-color: #f0f8ff;border: 1px dotted black;border-radius: 0.25em;box-sizing: border-box;margin-bottom: 0.5em;}#sk-container-id-15 div.sk-estimator:hover {background-color: #d4ebff;}#sk-container-id-15 div.sk-parallel-item::after {content: \"\";width: 100%;border-bottom: 1px solid gray;flex-grow: 1;}#sk-container-id-15 div.sk-label:hover label.sk-toggleable__label {background-color: #d4ebff;}#sk-container-id-15 div.sk-serial::before {content: \"\";position: absolute;border-left: 1px solid gray;box-sizing: border-box;top: 0;bottom: 0;left: 50%;z-index: 0;}#sk-container-id-15 div.sk-serial {display: flex;flex-direction: column;align-items: center;background-color: white;padding-right: 0.2em;padding-left: 0.2em;position: relative;}#sk-container-id-15 div.sk-item {position: relative;z-index: 1;}#sk-container-id-15 div.sk-parallel {display: flex;align-items: stretch;justify-content: center;background-color: white;position: relative;}#sk-container-id-15 div.sk-item::before, #sk-container-id-15 div.sk-parallel-item::before {content: \"\";position: absolute;border-left: 1px solid gray;box-sizing: border-box;top: 0;bottom: 0;left: 50%;z-index: -1;}#sk-container-id-15 div.sk-parallel-item {display: flex;flex-direction: column;z-index: 1;position: relative;background-color: white;}#sk-container-id-15 div.sk-parallel-item:first-child::after {align-self: flex-end;width: 50%;}#sk-container-id-15 div.sk-parallel-item:last-child::after {align-self: flex-start;width: 50%;}#sk-container-id-15 div.sk-parallel-item:only-child::after {width: 0;}#sk-container-id-15 div.sk-dashed-wrapped {border: 1px dashed gray;margin: 0 0.4em 0.5em 0.4em;box-sizing: border-box;padding-bottom: 0.4em;background-color: white;}#sk-container-id-15 div.sk-label label {font-family: monospace;font-weight: bold;display: inline-block;line-height: 1.2em;}#sk-container-id-15 div.sk-label-container {text-align: center;}#sk-container-id-15 div.sk-container {/* jupyter's `normalize.less` sets `[hidden] { display: none; }` but bootstrap.min.css set `[hidden] { display: none !important; }` so we also need the `!important` here to be able to override the default hidden behavior on the sphinx rendered scikit-learn.org. See: https://github.com/scikit-learn/scikit-learn/issues/21755 */display: inline-block !important;position: relative;}#sk-container-id-15 div.sk-text-repr-fallback {display: none;}</style><div id=\"sk-container-id-15\" class=\"sk-top-container\"><div class=\"sk-text-repr-fallback\"><pre>GradientBoostingClassifier(random_state=42)</pre><b>In a Jupyter environment, please rerun this cell to show the HTML representation or trust the notebook. <br />On GitHub, the HTML representation is unable to render, please try loading this page with nbviewer.org.</b></div><div class=\"sk-container\" hidden><div class=\"sk-item\"><div class=\"sk-estimator sk-toggleable\"><input class=\"sk-toggleable__control sk-hidden--visually\" id=\"sk-estimator-id-15\" type=\"checkbox\" checked><label for=\"sk-estimator-id-15\" class=\"sk-toggleable__label sk-toggleable__label-arrow\">GradientBoostingClassifier</label><div class=\"sk-toggleable__content\"><pre>GradientBoostingClassifier(random_state=42)</pre></div></div></div></div></div>"
      ],
      "text/plain": [
       "GradientBoostingClassifier(random_state=42)"
      ]
     },
     "execution_count": 128,
     "metadata": {},
     "output_type": "execute_result"
    }
   ],
   "source": [
    "clf6 = GradientBoostingClassifier(random_state=42)\n",
    "clf6.fit(X_train_pca,y_train_smote)"
   ]
  },
  {
   "cell_type": "code",
   "execution_count": 129,
   "id": "34050422-a430-4302-a6bd-bf39deb12466",
   "metadata": {},
   "outputs": [],
   "source": [
    "# Training Evaluation\n",
    "y_train_pred = clf6.predict(X_train_pca)\n",
    "\n",
    "accuracy = accuracy_score(y_train_pred,y_train_smote)\n",
    "precision = precision_score(y_train_pred,y_train_smote)\n",
    "recall = recall_score(y_train_pred,y_train_smote)\n",
    "f1_score_value = f1_score(y_train_pred,y_train_smote)\n",
    "\n",
    "fpr, tpr, thresholds= roc_curve(y_train_pred,y_train_smote)\n",
    "auc_roc= auc(fpr, tpr)\n",
    "\n",
    "training_eval_df.loc[len(training_eval_df.index)] = ['Gradient Boosting', accuracy, precision, recall, f1_score_value, auc_roc] "
   ]
  },
  {
   "cell_type": "code",
   "execution_count": 130,
   "id": "d1d7b779-2714-4e5e-a462-0e8613aa0d2f",
   "metadata": {},
   "outputs": [],
   "source": [
    "# Testing Evaluation\n",
    "y_test_pred = clf6.predict(X_test_pca)\n",
    "\n",
    "accuracy = accuracy_score(y_test_pred,y_test)\n",
    "precision = precision_score(y_test_pred,y_test)\n",
    "recall = recall_score(y_test_pred,y_test)\n",
    "f1_score_value = f1_score(y_test_pred,y_test)\n",
    "\n",
    "fpr, tpr, thresholds= roc_curve(y_test_pred,y_test)\n",
    "auc_roc= auc(fpr, tpr)\n",
    "\n",
    "testing_eval_df.loc[len(testing_eval_df.index)] = ['Gradient Boosting', accuracy, precision, recall, f1_score_value, auc_roc]"
   ]
  },
  {
   "cell_type": "markdown",
   "id": "6883729b-07bd-43bb-971c-207c3449d1f7",
   "metadata": {},
   "source": [
    "## Consolidated Evaluation Metrics :"
   ]
  },
  {
   "cell_type": "code",
   "execution_count": 131,
   "id": "f3560349-e296-481f-baf3-7f6a58d61b64",
   "metadata": {},
   "outputs": [
    {
     "data": {
      "text/html": [
       "<div>\n",
       "<style scoped>\n",
       "    .dataframe tbody tr th:only-of-type {\n",
       "        vertical-align: middle;\n",
       "    }\n",
       "\n",
       "    .dataframe tbody tr th {\n",
       "        vertical-align: top;\n",
       "    }\n",
       "\n",
       "    .dataframe thead th {\n",
       "        text-align: right;\n",
       "    }\n",
       "</style>\n",
       "<table border=\"1\" class=\"dataframe\">\n",
       "  <thead>\n",
       "    <tr style=\"text-align: right;\">\n",
       "      <th></th>\n",
       "      <th>Model</th>\n",
       "      <th>Accuracy</th>\n",
       "      <th>Recall</th>\n",
       "      <th>Precision</th>\n",
       "      <th>F1-Score</th>\n",
       "      <th>AUC</th>\n",
       "    </tr>\n",
       "  </thead>\n",
       "  <tbody>\n",
       "    <tr>\n",
       "      <th>0</th>\n",
       "      <td>Logistic Regression</td>\n",
       "      <td>0.549628</td>\n",
       "      <td>0.543424</td>\n",
       "      <td>0.550251</td>\n",
       "      <td>0.546816</td>\n",
       "      <td>0.549635</td>\n",
       "    </tr>\n",
       "    <tr>\n",
       "      <th>1</th>\n",
       "      <td>KNN</td>\n",
       "      <td>0.643921</td>\n",
       "      <td>0.531017</td>\n",
       "      <td>0.685897</td>\n",
       "      <td>0.598601</td>\n",
       "      <td>0.651653</td>\n",
       "    </tr>\n",
       "    <tr>\n",
       "      <th>2</th>\n",
       "      <td>SVC</td>\n",
       "      <td>0.563275</td>\n",
       "      <td>0.692308</td>\n",
       "      <td>0.550296</td>\n",
       "      <td>0.613187</td>\n",
       "      <td>0.567790</td>\n",
       "    </tr>\n",
       "    <tr>\n",
       "      <th>3</th>\n",
       "      <td>Random Forest</td>\n",
       "      <td>1.000000</td>\n",
       "      <td>1.000000</td>\n",
       "      <td>1.000000</td>\n",
       "      <td>1.000000</td>\n",
       "      <td>1.000000</td>\n",
       "    </tr>\n",
       "    <tr>\n",
       "      <th>4</th>\n",
       "      <td>Ada Boosting</td>\n",
       "      <td>0.651365</td>\n",
       "      <td>0.580645</td>\n",
       "      <td>0.676301</td>\n",
       "      <td>0.624833</td>\n",
       "      <td>0.654455</td>\n",
       "    </tr>\n",
       "    <tr>\n",
       "      <th>5</th>\n",
       "      <td>Gradient Boosting</td>\n",
       "      <td>0.878412</td>\n",
       "      <td>0.870968</td>\n",
       "      <td>0.884131</td>\n",
       "      <td>0.877500</td>\n",
       "      <td>0.878496</td>\n",
       "    </tr>\n",
       "  </tbody>\n",
       "</table>\n",
       "</div>"
      ],
      "text/plain": [
       "                 Model  Accuracy    Recall  Precision  F1-Score       AUC\n",
       "0  Logistic Regression  0.549628  0.543424   0.550251  0.546816  0.549635\n",
       "1                  KNN  0.643921  0.531017   0.685897  0.598601  0.651653\n",
       "2                  SVC  0.563275  0.692308   0.550296  0.613187  0.567790\n",
       "3        Random Forest  1.000000  1.000000   1.000000  1.000000  1.000000\n",
       "4         Ada Boosting  0.651365  0.580645   0.676301  0.624833  0.654455\n",
       "5    Gradient Boosting  0.878412  0.870968   0.884131  0.877500  0.878496"
      ]
     },
     "execution_count": 131,
     "metadata": {},
     "output_type": "execute_result"
    }
   ],
   "source": [
    "training_eval_df"
   ]
  },
  {
   "cell_type": "code",
   "execution_count": 132,
   "id": "1442a686-ae91-40d4-91b5-14e1a5ed43f9",
   "metadata": {},
   "outputs": [
    {
     "data": {
      "text/html": [
       "<div>\n",
       "<style scoped>\n",
       "    .dataframe tbody tr th:only-of-type {\n",
       "        vertical-align: middle;\n",
       "    }\n",
       "\n",
       "    .dataframe tbody tr th {\n",
       "        vertical-align: top;\n",
       "    }\n",
       "\n",
       "    .dataframe thead th {\n",
       "        text-align: right;\n",
       "    }\n",
       "</style>\n",
       "<table border=\"1\" class=\"dataframe\">\n",
       "  <thead>\n",
       "    <tr style=\"text-align: right;\">\n",
       "      <th></th>\n",
       "      <th>Model</th>\n",
       "      <th>Accuracy</th>\n",
       "      <th>Recall</th>\n",
       "      <th>Precision</th>\n",
       "      <th>F1-Score</th>\n",
       "      <th>AUC</th>\n",
       "    </tr>\n",
       "  </thead>\n",
       "  <tbody>\n",
       "    <tr>\n",
       "      <th>0</th>\n",
       "      <td>Logistic Regression</td>\n",
       "      <td>0.489899</td>\n",
       "      <td>0.454545</td>\n",
       "      <td>0.489130</td>\n",
       "      <td>0.471204</td>\n",
       "      <td>0.489848</td>\n",
       "    </tr>\n",
       "    <tr>\n",
       "      <th>1</th>\n",
       "      <td>KNN</td>\n",
       "      <td>0.540404</td>\n",
       "      <td>0.353535</td>\n",
       "      <td>0.564516</td>\n",
       "      <td>0.434783</td>\n",
       "      <td>0.546964</td>\n",
       "    </tr>\n",
       "    <tr>\n",
       "      <th>2</th>\n",
       "      <td>SVC</td>\n",
       "      <td>0.510101</td>\n",
       "      <td>0.545455</td>\n",
       "      <td>0.509434</td>\n",
       "      <td>0.526829</td>\n",
       "      <td>0.510152</td>\n",
       "    </tr>\n",
       "    <tr>\n",
       "      <th>3</th>\n",
       "      <td>Random Forest</td>\n",
       "      <td>0.439394</td>\n",
       "      <td>0.343434</td>\n",
       "      <td>0.425000</td>\n",
       "      <td>0.379888</td>\n",
       "      <td>0.437076</td>\n",
       "    </tr>\n",
       "    <tr>\n",
       "      <th>4</th>\n",
       "      <td>Ada Boosting</td>\n",
       "      <td>0.454545</td>\n",
       "      <td>0.333333</td>\n",
       "      <td>0.440000</td>\n",
       "      <td>0.379310</td>\n",
       "      <td>0.451707</td>\n",
       "    </tr>\n",
       "    <tr>\n",
       "      <th>5</th>\n",
       "      <td>Gradient Boosting</td>\n",
       "      <td>0.454545</td>\n",
       "      <td>0.414141</td>\n",
       "      <td>0.450549</td>\n",
       "      <td>0.431579</td>\n",
       "      <td>0.454247</td>\n",
       "    </tr>\n",
       "  </tbody>\n",
       "</table>\n",
       "</div>"
      ],
      "text/plain": [
       "                 Model  Accuracy    Recall  Precision  F1-Score       AUC\n",
       "0  Logistic Regression  0.489899  0.454545   0.489130  0.471204  0.489848\n",
       "1                  KNN  0.540404  0.353535   0.564516  0.434783  0.546964\n",
       "2                  SVC  0.510101  0.545455   0.509434  0.526829  0.510152\n",
       "3        Random Forest  0.439394  0.343434   0.425000  0.379888  0.437076\n",
       "4         Ada Boosting  0.454545  0.333333   0.440000  0.379310  0.451707\n",
       "5    Gradient Boosting  0.454545  0.414141   0.450549  0.431579  0.454247"
      ]
     },
     "execution_count": 132,
     "metadata": {},
     "output_type": "execute_result"
    }
   ],
   "source": [
    "testing_eval_df"
   ]
  },
  {
   "cell_type": "markdown",
   "id": "bfb986d7-a369-4fa0-9812-76cee46390b5",
   "metadata": {},
   "source": [
    "## Insights after model building :\n",
    "- KNN seems to give the highest accuracy (54%) and precision score(56%) after applying the PCA, when compared to all other algorithms.\n",
    "- Though Random Forest has the highest training accuracy of 100%, it is clear from the testing results that the random forest model has undergone a \"Over Fitting\" problem.\n",
    "- SVM has the highest recall score (54%) and F1-Score(52%) in comparison with all algorithms.\n",
    "- From the above conclusions, it the clear that applying hyper parameter tuning to KNN can increase the overall accuracy obtained."
   ]
  },
  {
   "cell_type": "markdown",
   "id": "4513e79e-ec31-468b-80c8-463b4a8fd548",
   "metadata": {},
   "source": [
    "## Hyperparameter Tuning :"
   ]
  },
  {
   "cell_type": "code",
   "execution_count": 133,
   "id": "a642356b-956b-4314-bbb7-d456ec6af11d",
   "metadata": {},
   "outputs": [],
   "source": [
    "k_range = list(range(1,31,2))\n",
    "grid_params = { 'n_neighbors' : k_range,\n",
    "               'weights' : ['uniform','distance'],\n",
    "               'metric' : ['minkowski','euclidean','manhattan']}"
   ]
  },
  {
   "cell_type": "code",
   "execution_count": 134,
   "id": "b789adf6-a4cd-4259-b138-4f3275937826",
   "metadata": {},
   "outputs": [
    {
     "name": "stdout",
     "output_type": "stream",
     "text": [
      "Fitting 10 folds for each of 90 candidates, totalling 900 fits\n"
     ]
    }
   ],
   "source": [
    "clf7 = KNeighborsClassifier()\n",
    "grid = GridSearchCV(clf7, grid_params, cv=10, scoring='accuracy', return_train_score=False,verbose=1)\n",
    "grid_search=grid.fit(X_train_pca, y_train_smote)"
   ]
  },
  {
   "cell_type": "code",
   "execution_count": 135,
   "id": "365497e6-bd9c-4624-bbf1-466b643e4700",
   "metadata": {},
   "outputs": [
    {
     "name": "stdout",
     "output_type": "stream",
     "text": [
      "{'metric': 'manhattan', 'n_neighbors': 23, 'weights': 'distance'}\n",
      "Accuracy for our training dataset with tuning is : 56.08%\n"
     ]
    }
   ],
   "source": [
    "print(grid_search.best_params_)\n",
    "accuracy = grid_search.best_score_ *100\n",
    "print(\"Accuracy for our training dataset with tuning is : {:.2f}%\".format(accuracy) )"
   ]
  },
  {
   "cell_type": "code",
   "execution_count": 136,
   "id": "6b46f222-abbb-4b10-8eeb-7efd0d6bcb22",
   "metadata": {},
   "outputs": [
    {
     "data": {
      "text/html": [
       "<style>#sk-container-id-16 {color: black;}#sk-container-id-16 pre{padding: 0;}#sk-container-id-16 div.sk-toggleable {background-color: white;}#sk-container-id-16 label.sk-toggleable__label {cursor: pointer;display: block;width: 100%;margin-bottom: 0;padding: 0.3em;box-sizing: border-box;text-align: center;}#sk-container-id-16 label.sk-toggleable__label-arrow:before {content: \"▸\";float: left;margin-right: 0.25em;color: #696969;}#sk-container-id-16 label.sk-toggleable__label-arrow:hover:before {color: black;}#sk-container-id-16 div.sk-estimator:hover label.sk-toggleable__label-arrow:before {color: black;}#sk-container-id-16 div.sk-toggleable__content {max-height: 0;max-width: 0;overflow: hidden;text-align: left;background-color: #f0f8ff;}#sk-container-id-16 div.sk-toggleable__content pre {margin: 0.2em;color: black;border-radius: 0.25em;background-color: #f0f8ff;}#sk-container-id-16 input.sk-toggleable__control:checked~div.sk-toggleable__content {max-height: 200px;max-width: 100%;overflow: auto;}#sk-container-id-16 input.sk-toggleable__control:checked~label.sk-toggleable__label-arrow:before {content: \"▾\";}#sk-container-id-16 div.sk-estimator input.sk-toggleable__control:checked~label.sk-toggleable__label {background-color: #d4ebff;}#sk-container-id-16 div.sk-label input.sk-toggleable__control:checked~label.sk-toggleable__label {background-color: #d4ebff;}#sk-container-id-16 input.sk-hidden--visually {border: 0;clip: rect(1px 1px 1px 1px);clip: rect(1px, 1px, 1px, 1px);height: 1px;margin: -1px;overflow: hidden;padding: 0;position: absolute;width: 1px;}#sk-container-id-16 div.sk-estimator {font-family: monospace;background-color: #f0f8ff;border: 1px dotted black;border-radius: 0.25em;box-sizing: border-box;margin-bottom: 0.5em;}#sk-container-id-16 div.sk-estimator:hover {background-color: #d4ebff;}#sk-container-id-16 div.sk-parallel-item::after {content: \"\";width: 100%;border-bottom: 1px solid gray;flex-grow: 1;}#sk-container-id-16 div.sk-label:hover label.sk-toggleable__label {background-color: #d4ebff;}#sk-container-id-16 div.sk-serial::before {content: \"\";position: absolute;border-left: 1px solid gray;box-sizing: border-box;top: 0;bottom: 0;left: 50%;z-index: 0;}#sk-container-id-16 div.sk-serial {display: flex;flex-direction: column;align-items: center;background-color: white;padding-right: 0.2em;padding-left: 0.2em;position: relative;}#sk-container-id-16 div.sk-item {position: relative;z-index: 1;}#sk-container-id-16 div.sk-parallel {display: flex;align-items: stretch;justify-content: center;background-color: white;position: relative;}#sk-container-id-16 div.sk-item::before, #sk-container-id-16 div.sk-parallel-item::before {content: \"\";position: absolute;border-left: 1px solid gray;box-sizing: border-box;top: 0;bottom: 0;left: 50%;z-index: -1;}#sk-container-id-16 div.sk-parallel-item {display: flex;flex-direction: column;z-index: 1;position: relative;background-color: white;}#sk-container-id-16 div.sk-parallel-item:first-child::after {align-self: flex-end;width: 50%;}#sk-container-id-16 div.sk-parallel-item:last-child::after {align-self: flex-start;width: 50%;}#sk-container-id-16 div.sk-parallel-item:only-child::after {width: 0;}#sk-container-id-16 div.sk-dashed-wrapped {border: 1px dashed gray;margin: 0 0.4em 0.5em 0.4em;box-sizing: border-box;padding-bottom: 0.4em;background-color: white;}#sk-container-id-16 div.sk-label label {font-family: monospace;font-weight: bold;display: inline-block;line-height: 1.2em;}#sk-container-id-16 div.sk-label-container {text-align: center;}#sk-container-id-16 div.sk-container {/* jupyter's `normalize.less` sets `[hidden] { display: none; }` but bootstrap.min.css set `[hidden] { display: none !important; }` so we also need the `!important` here to be able to override the default hidden behavior on the sphinx rendered scikit-learn.org. See: https://github.com/scikit-learn/scikit-learn/issues/21755 */display: inline-block !important;position: relative;}#sk-container-id-16 div.sk-text-repr-fallback {display: none;}</style><div id=\"sk-container-id-16\" class=\"sk-top-container\"><div class=\"sk-text-repr-fallback\"><pre>KNeighborsClassifier(algorithm=&#x27;brute&#x27;, metric=&#x27;manhattan&#x27;, n_neighbors=23,\n",
       "                     weights=&#x27;distance&#x27;)</pre><b>In a Jupyter environment, please rerun this cell to show the HTML representation or trust the notebook. <br />On GitHub, the HTML representation is unable to render, please try loading this page with nbviewer.org.</b></div><div class=\"sk-container\" hidden><div class=\"sk-item\"><div class=\"sk-estimator sk-toggleable\"><input class=\"sk-toggleable__control sk-hidden--visually\" id=\"sk-estimator-id-16\" type=\"checkbox\" checked><label for=\"sk-estimator-id-16\" class=\"sk-toggleable__label sk-toggleable__label-arrow\">KNeighborsClassifier</label><div class=\"sk-toggleable__content\"><pre>KNeighborsClassifier(algorithm=&#x27;brute&#x27;, metric=&#x27;manhattan&#x27;, n_neighbors=23,\n",
       "                     weights=&#x27;distance&#x27;)</pre></div></div></div></div></div>"
      ],
      "text/plain": [
       "KNeighborsClassifier(algorithm='brute', metric='manhattan', n_neighbors=23,\n",
       "                     weights='distance')"
      ]
     },
     "execution_count": 136,
     "metadata": {},
     "output_type": "execute_result"
    }
   ],
   "source": [
    "clf7 = KNeighborsClassifier(n_neighbors = 23, weights = 'distance',algorithm = 'brute',metric = 'manhattan')\n",
    "clf7.fit(X_train_pca, y_train_smote)"
   ]
  },
  {
   "cell_type": "code",
   "execution_count": 137,
   "id": "35f6a05d-0038-4423-879a-17074bdcad17",
   "metadata": {},
   "outputs": [],
   "source": [
    "# Training Evaluation\n",
    "y_train_pred = clf7.predict(X_train_pca)\n",
    "\n",
    "accuracy = accuracy_score(y_train_pred,y_train_smote)\n",
    "precision = precision_score(y_train_pred,y_train_smote)\n",
    "recall = recall_score(y_train_pred,y_train_smote)\n",
    "f1_score_value = f1_score(y_train_pred,y_train_smote)\n",
    "\n",
    "fpr, tpr, thresholds= roc_curve(y_train_pred,y_train_smote)\n",
    "auc_roc= auc(fpr, tpr)\n",
    "\n",
    "training_eval_df.loc[len(training_eval_df.index)] = ['KNN - HyperParam', accuracy, precision, recall, f1_score_value, auc_roc] "
   ]
  },
  {
   "cell_type": "code",
   "execution_count": 138,
   "id": "433e83c2-12a1-471a-8a0b-0113bea78afc",
   "metadata": {},
   "outputs": [],
   "source": [
    "# Testing Evaluation\n",
    "y_test_pred = clf7.predict(X_test_pca)\n",
    "\n",
    "accuracy = accuracy_score(y_test_pred,y_test)\n",
    "precision = precision_score(y_test_pred,y_test)\n",
    "recall = recall_score(y_test_pred,y_test)\n",
    "f1_score_value = f1_score(y_test_pred,y_test)\n",
    "\n",
    "fpr, tpr, thresholds= roc_curve(y_test_pred,y_test)\n",
    "auc_roc= auc(fpr, tpr)\n",
    "\n",
    "testing_eval_df.loc[len(testing_eval_df.index)] = ['KNN - HyperParam', accuracy, precision, recall, f1_score_value, auc_roc]"
   ]
  },
  {
   "cell_type": "code",
   "execution_count": 139,
   "id": "69c6e509-12b4-4c9a-b79b-d4ab3cdbcb1a",
   "metadata": {},
   "outputs": [
    {
     "data": {
      "text/html": [
       "<div>\n",
       "<style scoped>\n",
       "    .dataframe tbody tr th:only-of-type {\n",
       "        vertical-align: middle;\n",
       "    }\n",
       "\n",
       "    .dataframe tbody tr th {\n",
       "        vertical-align: top;\n",
       "    }\n",
       "\n",
       "    .dataframe thead th {\n",
       "        text-align: right;\n",
       "    }\n",
       "</style>\n",
       "<table border=\"1\" class=\"dataframe\">\n",
       "  <thead>\n",
       "    <tr style=\"text-align: right;\">\n",
       "      <th></th>\n",
       "      <th>Model</th>\n",
       "      <th>Accuracy</th>\n",
       "      <th>Recall</th>\n",
       "      <th>Precision</th>\n",
       "      <th>F1-Score</th>\n",
       "      <th>AUC</th>\n",
       "    </tr>\n",
       "  </thead>\n",
       "  <tbody>\n",
       "    <tr>\n",
       "      <th>0</th>\n",
       "      <td>Logistic Regression</td>\n",
       "      <td>0.549628</td>\n",
       "      <td>0.543424</td>\n",
       "      <td>0.550251</td>\n",
       "      <td>0.546816</td>\n",
       "      <td>0.549635</td>\n",
       "    </tr>\n",
       "    <tr>\n",
       "      <th>1</th>\n",
       "      <td>KNN</td>\n",
       "      <td>0.643921</td>\n",
       "      <td>0.531017</td>\n",
       "      <td>0.685897</td>\n",
       "      <td>0.598601</td>\n",
       "      <td>0.651653</td>\n",
       "    </tr>\n",
       "    <tr>\n",
       "      <th>2</th>\n",
       "      <td>SVC</td>\n",
       "      <td>0.563275</td>\n",
       "      <td>0.692308</td>\n",
       "      <td>0.550296</td>\n",
       "      <td>0.613187</td>\n",
       "      <td>0.567790</td>\n",
       "    </tr>\n",
       "    <tr>\n",
       "      <th>3</th>\n",
       "      <td>Random Forest</td>\n",
       "      <td>1.000000</td>\n",
       "      <td>1.000000</td>\n",
       "      <td>1.000000</td>\n",
       "      <td>1.000000</td>\n",
       "      <td>1.000000</td>\n",
       "    </tr>\n",
       "    <tr>\n",
       "      <th>4</th>\n",
       "      <td>Ada Boosting</td>\n",
       "      <td>0.651365</td>\n",
       "      <td>0.580645</td>\n",
       "      <td>0.676301</td>\n",
       "      <td>0.624833</td>\n",
       "      <td>0.654455</td>\n",
       "    </tr>\n",
       "    <tr>\n",
       "      <th>5</th>\n",
       "      <td>Gradient Boosting</td>\n",
       "      <td>0.878412</td>\n",
       "      <td>0.870968</td>\n",
       "      <td>0.884131</td>\n",
       "      <td>0.877500</td>\n",
       "      <td>0.878496</td>\n",
       "    </tr>\n",
       "    <tr>\n",
       "      <th>6</th>\n",
       "      <td>KNN - HyperParam</td>\n",
       "      <td>1.000000</td>\n",
       "      <td>1.000000</td>\n",
       "      <td>1.000000</td>\n",
       "      <td>1.000000</td>\n",
       "      <td>1.000000</td>\n",
       "    </tr>\n",
       "  </tbody>\n",
       "</table>\n",
       "</div>"
      ],
      "text/plain": [
       "                 Model  Accuracy    Recall  Precision  F1-Score       AUC\n",
       "0  Logistic Regression  0.549628  0.543424   0.550251  0.546816  0.549635\n",
       "1                  KNN  0.643921  0.531017   0.685897  0.598601  0.651653\n",
       "2                  SVC  0.563275  0.692308   0.550296  0.613187  0.567790\n",
       "3        Random Forest  1.000000  1.000000   1.000000  1.000000  1.000000\n",
       "4         Ada Boosting  0.651365  0.580645   0.676301  0.624833  0.654455\n",
       "5    Gradient Boosting  0.878412  0.870968   0.884131  0.877500  0.878496\n",
       "6     KNN - HyperParam  1.000000  1.000000   1.000000  1.000000  1.000000"
      ]
     },
     "execution_count": 139,
     "metadata": {},
     "output_type": "execute_result"
    }
   ],
   "source": [
    "training_eval_df"
   ]
  },
  {
   "cell_type": "code",
   "execution_count": 140,
   "id": "6e900d0f-abeb-45dc-a884-f6b3118b003f",
   "metadata": {},
   "outputs": [
    {
     "data": {
      "text/html": [
       "<div>\n",
       "<style scoped>\n",
       "    .dataframe tbody tr th:only-of-type {\n",
       "        vertical-align: middle;\n",
       "    }\n",
       "\n",
       "    .dataframe tbody tr th {\n",
       "        vertical-align: top;\n",
       "    }\n",
       "\n",
       "    .dataframe thead th {\n",
       "        text-align: right;\n",
       "    }\n",
       "</style>\n",
       "<table border=\"1\" class=\"dataframe\">\n",
       "  <thead>\n",
       "    <tr style=\"text-align: right;\">\n",
       "      <th></th>\n",
       "      <th>Model</th>\n",
       "      <th>Accuracy</th>\n",
       "      <th>Recall</th>\n",
       "      <th>Precision</th>\n",
       "      <th>F1-Score</th>\n",
       "      <th>AUC</th>\n",
       "    </tr>\n",
       "  </thead>\n",
       "  <tbody>\n",
       "    <tr>\n",
       "      <th>0</th>\n",
       "      <td>Logistic Regression</td>\n",
       "      <td>0.489899</td>\n",
       "      <td>0.454545</td>\n",
       "      <td>0.489130</td>\n",
       "      <td>0.471204</td>\n",
       "      <td>0.489848</td>\n",
       "    </tr>\n",
       "    <tr>\n",
       "      <th>1</th>\n",
       "      <td>KNN</td>\n",
       "      <td>0.540404</td>\n",
       "      <td>0.353535</td>\n",
       "      <td>0.564516</td>\n",
       "      <td>0.434783</td>\n",
       "      <td>0.546964</td>\n",
       "    </tr>\n",
       "    <tr>\n",
       "      <th>2</th>\n",
       "      <td>SVC</td>\n",
       "      <td>0.510101</td>\n",
       "      <td>0.545455</td>\n",
       "      <td>0.509434</td>\n",
       "      <td>0.526829</td>\n",
       "      <td>0.510152</td>\n",
       "    </tr>\n",
       "    <tr>\n",
       "      <th>3</th>\n",
       "      <td>Random Forest</td>\n",
       "      <td>0.439394</td>\n",
       "      <td>0.343434</td>\n",
       "      <td>0.425000</td>\n",
       "      <td>0.379888</td>\n",
       "      <td>0.437076</td>\n",
       "    </tr>\n",
       "    <tr>\n",
       "      <th>4</th>\n",
       "      <td>Ada Boosting</td>\n",
       "      <td>0.454545</td>\n",
       "      <td>0.333333</td>\n",
       "      <td>0.440000</td>\n",
       "      <td>0.379310</td>\n",
       "      <td>0.451707</td>\n",
       "    </tr>\n",
       "    <tr>\n",
       "      <th>5</th>\n",
       "      <td>Gradient Boosting</td>\n",
       "      <td>0.454545</td>\n",
       "      <td>0.414141</td>\n",
       "      <td>0.450549</td>\n",
       "      <td>0.431579</td>\n",
       "      <td>0.454247</td>\n",
       "    </tr>\n",
       "    <tr>\n",
       "      <th>6</th>\n",
       "      <td>KNN - HyperParam</td>\n",
       "      <td>0.494949</td>\n",
       "      <td>0.434343</td>\n",
       "      <td>0.494253</td>\n",
       "      <td>0.462366</td>\n",
       "      <td>0.494874</td>\n",
       "    </tr>\n",
       "  </tbody>\n",
       "</table>\n",
       "</div>"
      ],
      "text/plain": [
       "                 Model  Accuracy    Recall  Precision  F1-Score       AUC\n",
       "0  Logistic Regression  0.489899  0.454545   0.489130  0.471204  0.489848\n",
       "1                  KNN  0.540404  0.353535   0.564516  0.434783  0.546964\n",
       "2                  SVC  0.510101  0.545455   0.509434  0.526829  0.510152\n",
       "3        Random Forest  0.439394  0.343434   0.425000  0.379888  0.437076\n",
       "4         Ada Boosting  0.454545  0.333333   0.440000  0.379310  0.451707\n",
       "5    Gradient Boosting  0.454545  0.414141   0.450549  0.431579  0.454247\n",
       "6     KNN - HyperParam  0.494949  0.434343   0.494253  0.462366  0.494874"
      ]
     },
     "execution_count": 140,
     "metadata": {},
     "output_type": "execute_result"
    }
   ],
   "source": [
    "testing_eval_df"
   ]
  },
  {
   "cell_type": "markdown",
   "id": "86c0fe50-fd9a-4649-94ee-c43f72ac5f12",
   "metadata": {},
   "source": [
    "## Insights after Hyper Parameter Tuning :\n",
    "- From the above training and testing evaluation metrics, it is clear that tuning the params has the ability to make the model over fit during training, which it turn results in lowering the base accuracy of the KNN algorithm."
   ]
  },
  {
   "cell_type": "markdown",
   "id": "1ef6677a-cf2b-4a5c-8133-d962a02c0cf2",
   "metadata": {},
   "source": [
    "## Important Features which contribute to the Model :"
   ]
  },
  {
   "cell_type": "code",
   "execution_count": 141,
   "id": "ddf68887-a4bd-4052-8df1-aba233a8ef46",
   "metadata": {},
   "outputs": [
    {
     "data": {
      "image/png": "[encoded data removed]",
      "text/plain": [
       "<Figure size 2000x500 with 1 Axes>"
      ]
     },
     "metadata": {},
     "output_type": "display_data"
    }
   ],
   "source": [
    "# Logistic Regression Model without applying PCA\n",
    "clf8=LogisticRegression(random_state=42,max_iter=1000)\n",
    "clf8.fit(X_train_smote, y_train_smote)\n",
    "\n",
    "column_names = ['Age', 'Num_Lab_Procedures', 'Num_Medications','Num_Outpatient_Visits','Num_Inpatient_Visits','Num_Emergency_Visits','Num_Diagnoses','Gender_Female','Gender_Male','Gender_Other','Admission_Type_Elective','Admission_Type_Emergency','Admission_Type_Urgent','Diagnosis_Diabetes','Diagnosis_Heart Disease','Diagnosis_Infection','Diagnosis_Injury'] \n",
    "X_train_smote_temp = pd.DataFrame(X_train_smote, columns=column_names)\n",
    "\n",
    "importance = pd.Series(\n",
    "    data = np.abs(clf8.coef_[0]),\n",
    "    index = X_train_smote_temp.columns,\n",
    ")\n",
    "importance.sort_values(inplace=True, ascending=False)\n",
    "importance.plot.bar(figsize=(20,5), fontsize=14)\n",
    "plt.title(\"Importance based on linear model coefficients\", fontsize=20)\n",
    "plt.ylabel(\"Absolute coefficient value\", fontsize=20)\n",
    "plt.show()"
   ]
  },
  {
   "cell_type": "code",
   "execution_count": 142,
   "id": "70951be1-9531-4f79-8cb4-872f7fbc1392",
   "metadata": {},
   "outputs": [
    {
     "data": {
      "image/png": "[encoded data removed]",
      "text/plain": [
       "<Figure size 2000x500 with 1 Axes>"
      ]
     },
     "metadata": {},
     "output_type": "display_data"
    }
   ],
   "source": [
    "# Random Forest Model without applying PCA\n",
    "clf9=RandomForestClassifier(n_estimators=100)\n",
    "clf9.fit(X_train_smote, y_train_smote)\n",
    "\n",
    "column_names = ['Age', 'Num_Lab_Procedures', 'Num_Medications','Num_Outpatient_Visits','Num_Inpatient_Visits','Num_Emergency_Visits','Num_Diagnoses','Gender_Female','Gender_Male','Gender_Other','Admission_Type_Elective','Admission_Type_Emergency','Admission_Type_Urgent','Diagnosis_Diabetes','Diagnosis_Heart Disease','Diagnosis_Infection','Diagnosis_Injury'] \n",
    "X_train_smote_temp = pd.DataFrame(X_train_smote, columns=column_names)\n",
    "\n",
    "importance = pd.Series(data=clf9.feature_importances_, index=X_train_smote_temp.columns)\n",
    "\n",
    "importance.sort_values(inplace=True, ascending=False)\n",
    "importance.plot.bar(figsize=(20,5), fontsize=14)\n",
    "plt.title(\"Importance based on random forest feature importance\", fontsize=20)\n",
    "plt.ylabel(\"Absolute coefficient value\", fontsize=20)\n",
    "plt.show()"
   ]
  },
  {
   "cell_type": "markdown",
   "id": "f40de0c3-cc46-461e-914a-c7f63f64b053",
   "metadata": {},
   "source": [
    "## Final thoughts :\n",
    "- After applying EDA and feature importance, it is clear that the columns - \"Gender\", \"Diagnosis\", \"Admission_Type\" - majorly contributes to the model built.\n",
    "- It is evident that the hospital readmissions focuses primarily on these 3 fields. Other fields have a minor impact on the target column (Readmission_Yes)."
   ]
  },
  {
   "cell_type": "code",
   "execution_count": null,
   "id": "c4607dd0-ca18-4cec-9c45-fdf54c2bf1b1",
   "metadata": {},
   "outputs": [],
   "source": []
  }
 ],
 "metadata": {
  "kernelspec": {
   "display_name": "Python 3 (ipykernel)",
   "language": "python",
   "name": "python3"
  },
  "language_info": {
   "codemirror_mode": {
    "name": "ipython",
    "version": 3
   },
   "file_extension": ".py",
   "mimetype": "text/x-python",
   "name": "python",
   "nbconvert_exporter": "python",
   "pygments_lexer": "ipython3",
   "version": "3.12.0"
  }
 },
 "nbformat": 4,
 "nbformat_minor": 5
}
